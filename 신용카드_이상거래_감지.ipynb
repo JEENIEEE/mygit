{
  "nbformat": 4,
  "nbformat_minor": 0,
  "metadata": {
    "colab": {
      "provenance": [],
      "collapsed_sections": [
        "cwReUPZ1espD"
      ]
    },
    "kernelspec": {
      "name": "python3",
      "display_name": "Python 3"
    },
    "language_info": {
      "name": "python"
    }
  },
  "cells": [
    {
      "cell_type": "code",
      "execution_count": null,
      "metadata": {
        "colab": {
          "base_uri": "https://localhost:8080/",
          "height": 35
        },
        "id": "bFZ93lg_cAiR",
        "outputId": "c5bede2e-6415-4298-d635-57161c6fb80c"
      },
      "outputs": [
        {
          "output_type": "execute_result",
          "data": {
            "text/plain": [
              "'/content'"
            ],
            "application/vnd.google.colaboratory.intrinsic+json": {
              "type": "string"
            }
          },
          "metadata": {},
          "execution_count": 1
        }
      ],
      "source": [
        "pwd"
      ]
    },
    {
      "cell_type": "code",
      "source": [
        "from google.colab import drive\n",
        "drive.mount('/content/drive')"
      ],
      "metadata": {
        "colab": {
          "base_uri": "https://localhost:8080/"
        },
        "id": "vnFD2iBweTbk",
        "outputId": "738c0b05-ccbb-454b-f40e-625def9a441b"
      },
      "execution_count": null,
      "outputs": [
        {
          "output_type": "stream",
          "name": "stdout",
          "text": [
            "Mounted at /content/drive\n"
          ]
        }
      ]
    },
    {
      "cell_type": "markdown",
      "source": [
        "# #개요\n",
        "신용카드 이상 거래 탐지 모델 만들기\n",
        "\n",
        "이상 거래 탐지는 전자상거래 비즈니스에서 한번의 사기에도 많은 손실이 생길 수 있어 매우 중요하다.이에 신용카드 데이터셋을 활용하여 이상거래 탐지 모델을 구축해본다.\n",
        "\n",
        "데이터셋 출처: https://www.kaggle.com/datasets/mlg-ulb/creditcardfraud"
      ],
      "metadata": {
        "id": "QHsKRITN8e7M"
      }
    },
    {
      "cell_type": "markdown",
      "source": [
        "- 딥러닝\n",
        "- LGBM\n",
        "- XGboost\n",
        "- 로지스틱 회귀"
      ],
      "metadata": {
        "id": "HTm7LfeD8-L3"
      }
    },
    {
      "cell_type": "markdown",
      "source": [
        "# 1. 데이터셋 확인"
      ],
      "metadata": {
        "id": "BkOkCRhFZF-V"
      }
    },
    {
      "cell_type": "code",
      "source": [
        "# Load the dataset\n",
        "file_path = '/content/drive/MyDrive/Colaboratory/메타코드스터디/creditcard.csv'\n",
        "\n",
        "import pandas as pd\n",
        "df = pd.read_csv(file_path)\n",
        "df.head()"
      ],
      "metadata": {
        "colab": {
          "base_uri": "https://localhost:8080/",
          "height": 255
        },
        "id": "EaZ35LvPemp6",
        "outputId": "ffb93eb1-a68f-45df-f2ee-e59301246189"
      },
      "execution_count": null,
      "outputs": [
        {
          "output_type": "execute_result",
          "data": {
            "text/plain": [
              "   Time    V1    V2   V3    V4    V5    V6    V7    V8    V9  ...   V21   V22  \\\n",
              "0  0.00 -1.36 -0.07 2.54  1.38 -0.34  0.46  0.24  0.10  0.36  ... -0.02  0.28   \n",
              "1  0.00  1.19  0.27 0.17  0.45  0.06 -0.08 -0.08  0.09 -0.26  ... -0.23 -0.64   \n",
              "2  1.00 -1.36 -1.34 1.77  0.38 -0.50  1.80  0.79  0.25 -1.51  ...  0.25  0.77   \n",
              "3  1.00 -0.97 -0.19 1.79 -0.86 -0.01  1.25  0.24  0.38 -1.39  ... -0.11  0.01   \n",
              "4  2.00 -1.16  0.88 1.55  0.40 -0.41  0.10  0.59 -0.27  0.82  ... -0.01  0.80   \n",
              "\n",
              "    V23   V24   V25   V26   V27   V28  Amount  Class  \n",
              "0 -0.11  0.07  0.13 -0.19  0.13 -0.02  149.62      0  \n",
              "1  0.10 -0.34  0.17  0.13 -0.01  0.01    2.69      0  \n",
              "2  0.91 -0.69 -0.33 -0.14 -0.06 -0.06  378.66      0  \n",
              "3 -0.19 -1.18  0.65 -0.22  0.06  0.06  123.50      0  \n",
              "4 -0.14  0.14 -0.21  0.50  0.22  0.22   69.99      0  \n",
              "\n",
              "[5 rows x 31 columns]"
            ],
            "text/html": [
              "\n",
              "  <div id=\"df-c65fe8b2-4bc3-4373-b247-5edafe3736fe\" class=\"colab-df-container\">\n",
              "    <div>\n",
              "<style scoped>\n",
              "    .dataframe tbody tr th:only-of-type {\n",
              "        vertical-align: middle;\n",
              "    }\n",
              "\n",
              "    .dataframe tbody tr th {\n",
              "        vertical-align: top;\n",
              "    }\n",
              "\n",
              "    .dataframe thead th {\n",
              "        text-align: right;\n",
              "    }\n",
              "</style>\n",
              "<table border=\"1\" class=\"dataframe\">\n",
              "  <thead>\n",
              "    <tr style=\"text-align: right;\">\n",
              "      <th></th>\n",
              "      <th>Time</th>\n",
              "      <th>V1</th>\n",
              "      <th>V2</th>\n",
              "      <th>V3</th>\n",
              "      <th>V4</th>\n",
              "      <th>V5</th>\n",
              "      <th>V6</th>\n",
              "      <th>V7</th>\n",
              "      <th>V8</th>\n",
              "      <th>V9</th>\n",
              "      <th>...</th>\n",
              "      <th>V21</th>\n",
              "      <th>V22</th>\n",
              "      <th>V23</th>\n",
              "      <th>V24</th>\n",
              "      <th>V25</th>\n",
              "      <th>V26</th>\n",
              "      <th>V27</th>\n",
              "      <th>V28</th>\n",
              "      <th>Amount</th>\n",
              "      <th>Class</th>\n",
              "    </tr>\n",
              "  </thead>\n",
              "  <tbody>\n",
              "    <tr>\n",
              "      <th>0</th>\n",
              "      <td>0.00</td>\n",
              "      <td>-1.36</td>\n",
              "      <td>-0.07</td>\n",
              "      <td>2.54</td>\n",
              "      <td>1.38</td>\n",
              "      <td>-0.34</td>\n",
              "      <td>0.46</td>\n",
              "      <td>0.24</td>\n",
              "      <td>0.10</td>\n",
              "      <td>0.36</td>\n",
              "      <td>...</td>\n",
              "      <td>-0.02</td>\n",
              "      <td>0.28</td>\n",
              "      <td>-0.11</td>\n",
              "      <td>0.07</td>\n",
              "      <td>0.13</td>\n",
              "      <td>-0.19</td>\n",
              "      <td>0.13</td>\n",
              "      <td>-0.02</td>\n",
              "      <td>149.62</td>\n",
              "      <td>0</td>\n",
              "    </tr>\n",
              "    <tr>\n",
              "      <th>1</th>\n",
              "      <td>0.00</td>\n",
              "      <td>1.19</td>\n",
              "      <td>0.27</td>\n",
              "      <td>0.17</td>\n",
              "      <td>0.45</td>\n",
              "      <td>0.06</td>\n",
              "      <td>-0.08</td>\n",
              "      <td>-0.08</td>\n",
              "      <td>0.09</td>\n",
              "      <td>-0.26</td>\n",
              "      <td>...</td>\n",
              "      <td>-0.23</td>\n",
              "      <td>-0.64</td>\n",
              "      <td>0.10</td>\n",
              "      <td>-0.34</td>\n",
              "      <td>0.17</td>\n",
              "      <td>0.13</td>\n",
              "      <td>-0.01</td>\n",
              "      <td>0.01</td>\n",
              "      <td>2.69</td>\n",
              "      <td>0</td>\n",
              "    </tr>\n",
              "    <tr>\n",
              "      <th>2</th>\n",
              "      <td>1.00</td>\n",
              "      <td>-1.36</td>\n",
              "      <td>-1.34</td>\n",
              "      <td>1.77</td>\n",
              "      <td>0.38</td>\n",
              "      <td>-0.50</td>\n",
              "      <td>1.80</td>\n",
              "      <td>0.79</td>\n",
              "      <td>0.25</td>\n",
              "      <td>-1.51</td>\n",
              "      <td>...</td>\n",
              "      <td>0.25</td>\n",
              "      <td>0.77</td>\n",
              "      <td>0.91</td>\n",
              "      <td>-0.69</td>\n",
              "      <td>-0.33</td>\n",
              "      <td>-0.14</td>\n",
              "      <td>-0.06</td>\n",
              "      <td>-0.06</td>\n",
              "      <td>378.66</td>\n",
              "      <td>0</td>\n",
              "    </tr>\n",
              "    <tr>\n",
              "      <th>3</th>\n",
              "      <td>1.00</td>\n",
              "      <td>-0.97</td>\n",
              "      <td>-0.19</td>\n",
              "      <td>1.79</td>\n",
              "      <td>-0.86</td>\n",
              "      <td>-0.01</td>\n",
              "      <td>1.25</td>\n",
              "      <td>0.24</td>\n",
              "      <td>0.38</td>\n",
              "      <td>-1.39</td>\n",
              "      <td>...</td>\n",
              "      <td>-0.11</td>\n",
              "      <td>0.01</td>\n",
              "      <td>-0.19</td>\n",
              "      <td>-1.18</td>\n",
              "      <td>0.65</td>\n",
              "      <td>-0.22</td>\n",
              "      <td>0.06</td>\n",
              "      <td>0.06</td>\n",
              "      <td>123.50</td>\n",
              "      <td>0</td>\n",
              "    </tr>\n",
              "    <tr>\n",
              "      <th>4</th>\n",
              "      <td>2.00</td>\n",
              "      <td>-1.16</td>\n",
              "      <td>0.88</td>\n",
              "      <td>1.55</td>\n",
              "      <td>0.40</td>\n",
              "      <td>-0.41</td>\n",
              "      <td>0.10</td>\n",
              "      <td>0.59</td>\n",
              "      <td>-0.27</td>\n",
              "      <td>0.82</td>\n",
              "      <td>...</td>\n",
              "      <td>-0.01</td>\n",
              "      <td>0.80</td>\n",
              "      <td>-0.14</td>\n",
              "      <td>0.14</td>\n",
              "      <td>-0.21</td>\n",
              "      <td>0.50</td>\n",
              "      <td>0.22</td>\n",
              "      <td>0.22</td>\n",
              "      <td>69.99</td>\n",
              "      <td>0</td>\n",
              "    </tr>\n",
              "  </tbody>\n",
              "</table>\n",
              "<p>5 rows × 31 columns</p>\n",
              "</div>\n",
              "    <div class=\"colab-df-buttons\">\n",
              "\n",
              "  <div class=\"colab-df-container\">\n",
              "    <button class=\"colab-df-convert\" onclick=\"convertToInteractive('df-c65fe8b2-4bc3-4373-b247-5edafe3736fe')\"\n",
              "            title=\"Convert this dataframe to an interactive table.\"\n",
              "            style=\"display:none;\">\n",
              "\n",
              "  <svg xmlns=\"http://www.w3.org/2000/svg\" height=\"24px\" viewBox=\"0 -960 960 960\">\n",
              "    <path d=\"M120-120v-720h720v720H120Zm60-500h600v-160H180v160Zm220 220h160v-160H400v160Zm0 220h160v-160H400v160ZM180-400h160v-160H180v160Zm440 0h160v-160H620v160ZM180-180h160v-160H180v160Zm440 0h160v-160H620v160Z\"/>\n",
              "  </svg>\n",
              "    </button>\n",
              "\n",
              "  <style>\n",
              "    .colab-df-container {\n",
              "      display:flex;\n",
              "      gap: 12px;\n",
              "    }\n",
              "\n",
              "    .colab-df-convert {\n",
              "      background-color: #E8F0FE;\n",
              "      border: none;\n",
              "      border-radius: 50%;\n",
              "      cursor: pointer;\n",
              "      display: none;\n",
              "      fill: #1967D2;\n",
              "      height: 32px;\n",
              "      padding: 0 0 0 0;\n",
              "      width: 32px;\n",
              "    }\n",
              "\n",
              "    .colab-df-convert:hover {\n",
              "      background-color: #E2EBFA;\n",
              "      box-shadow: 0px 1px 2px rgba(60, 64, 67, 0.3), 0px 1px 3px 1px rgba(60, 64, 67, 0.15);\n",
              "      fill: #174EA6;\n",
              "    }\n",
              "\n",
              "    .colab-df-buttons div {\n",
              "      margin-bottom: 4px;\n",
              "    }\n",
              "\n",
              "    [theme=dark] .colab-df-convert {\n",
              "      background-color: #3B4455;\n",
              "      fill: #D2E3FC;\n",
              "    }\n",
              "\n",
              "    [theme=dark] .colab-df-convert:hover {\n",
              "      background-color: #434B5C;\n",
              "      box-shadow: 0px 1px 3px 1px rgba(0, 0, 0, 0.15);\n",
              "      filter: drop-shadow(0px 1px 2px rgba(0, 0, 0, 0.3));\n",
              "      fill: #FFFFFF;\n",
              "    }\n",
              "  </style>\n",
              "\n",
              "    <script>\n",
              "      const buttonEl =\n",
              "        document.querySelector('#df-c65fe8b2-4bc3-4373-b247-5edafe3736fe button.colab-df-convert');\n",
              "      buttonEl.style.display =\n",
              "        google.colab.kernel.accessAllowed ? 'block' : 'none';\n",
              "\n",
              "      async function convertToInteractive(key) {\n",
              "        const element = document.querySelector('#df-c65fe8b2-4bc3-4373-b247-5edafe3736fe');\n",
              "        const dataTable =\n",
              "          await google.colab.kernel.invokeFunction('convertToInteractive',\n",
              "                                                    [key], {});\n",
              "        if (!dataTable) return;\n",
              "\n",
              "        const docLinkHtml = 'Like what you see? Visit the ' +\n",
              "          '<a target=\"_blank\" href=https://colab.research.google.com/notebooks/data_table.ipynb>data table notebook</a>'\n",
              "          + ' to learn more about interactive tables.';\n",
              "        element.innerHTML = '';\n",
              "        dataTable['output_type'] = 'display_data';\n",
              "        await google.colab.output.renderOutput(dataTable, element);\n",
              "        const docLink = document.createElement('div');\n",
              "        docLink.innerHTML = docLinkHtml;\n",
              "        element.appendChild(docLink);\n",
              "      }\n",
              "    </script>\n",
              "  </div>\n",
              "\n",
              "\n",
              "<div id=\"df-a5fc1bb4-097c-4749-b1aa-c283fd491d45\">\n",
              "  <button class=\"colab-df-quickchart\" onclick=\"quickchart('df-a5fc1bb4-097c-4749-b1aa-c283fd491d45')\"\n",
              "            title=\"Suggest charts\"\n",
              "            style=\"display:none;\">\n",
              "\n",
              "<svg xmlns=\"http://www.w3.org/2000/svg\" height=\"24px\"viewBox=\"0 0 24 24\"\n",
              "     width=\"24px\">\n",
              "    <g>\n",
              "        <path d=\"M19 3H5c-1.1 0-2 .9-2 2v14c0 1.1.9 2 2 2h14c1.1 0 2-.9 2-2V5c0-1.1-.9-2-2-2zM9 17H7v-7h2v7zm4 0h-2V7h2v10zm4 0h-2v-4h2v4z\"/>\n",
              "    </g>\n",
              "</svg>\n",
              "  </button>\n",
              "\n",
              "<style>\n",
              "  .colab-df-quickchart {\n",
              "      --bg-color: #E8F0FE;\n",
              "      --fill-color: #1967D2;\n",
              "      --hover-bg-color: #E2EBFA;\n",
              "      --hover-fill-color: #174EA6;\n",
              "      --disabled-fill-color: #AAA;\n",
              "      --disabled-bg-color: #DDD;\n",
              "  }\n",
              "\n",
              "  [theme=dark] .colab-df-quickchart {\n",
              "      --bg-color: #3B4455;\n",
              "      --fill-color: #D2E3FC;\n",
              "      --hover-bg-color: #434B5C;\n",
              "      --hover-fill-color: #FFFFFF;\n",
              "      --disabled-bg-color: #3B4455;\n",
              "      --disabled-fill-color: #666;\n",
              "  }\n",
              "\n",
              "  .colab-df-quickchart {\n",
              "    background-color: var(--bg-color);\n",
              "    border: none;\n",
              "    border-radius: 50%;\n",
              "    cursor: pointer;\n",
              "    display: none;\n",
              "    fill: var(--fill-color);\n",
              "    height: 32px;\n",
              "    padding: 0;\n",
              "    width: 32px;\n",
              "  }\n",
              "\n",
              "  .colab-df-quickchart:hover {\n",
              "    background-color: var(--hover-bg-color);\n",
              "    box-shadow: 0 1px 2px rgba(60, 64, 67, 0.3), 0 1px 3px 1px rgba(60, 64, 67, 0.15);\n",
              "    fill: var(--button-hover-fill-color);\n",
              "  }\n",
              "\n",
              "  .colab-df-quickchart-complete:disabled,\n",
              "  .colab-df-quickchart-complete:disabled:hover {\n",
              "    background-color: var(--disabled-bg-color);\n",
              "    fill: var(--disabled-fill-color);\n",
              "    box-shadow: none;\n",
              "  }\n",
              "\n",
              "  .colab-df-spinner {\n",
              "    border: 2px solid var(--fill-color);\n",
              "    border-color: transparent;\n",
              "    border-bottom-color: var(--fill-color);\n",
              "    animation:\n",
              "      spin 1s steps(1) infinite;\n",
              "  }\n",
              "\n",
              "  @keyframes spin {\n",
              "    0% {\n",
              "      border-color: transparent;\n",
              "      border-bottom-color: var(--fill-color);\n",
              "      border-left-color: var(--fill-color);\n",
              "    }\n",
              "    20% {\n",
              "      border-color: transparent;\n",
              "      border-left-color: var(--fill-color);\n",
              "      border-top-color: var(--fill-color);\n",
              "    }\n",
              "    30% {\n",
              "      border-color: transparent;\n",
              "      border-left-color: var(--fill-color);\n",
              "      border-top-color: var(--fill-color);\n",
              "      border-right-color: var(--fill-color);\n",
              "    }\n",
              "    40% {\n",
              "      border-color: transparent;\n",
              "      border-right-color: var(--fill-color);\n",
              "      border-top-color: var(--fill-color);\n",
              "    }\n",
              "    60% {\n",
              "      border-color: transparent;\n",
              "      border-right-color: var(--fill-color);\n",
              "    }\n",
              "    80% {\n",
              "      border-color: transparent;\n",
              "      border-right-color: var(--fill-color);\n",
              "      border-bottom-color: var(--fill-color);\n",
              "    }\n",
              "    90% {\n",
              "      border-color: transparent;\n",
              "      border-bottom-color: var(--fill-color);\n",
              "    }\n",
              "  }\n",
              "</style>\n",
              "\n",
              "  <script>\n",
              "    async function quickchart(key) {\n",
              "      const quickchartButtonEl =\n",
              "        document.querySelector('#' + key + ' button');\n",
              "      quickchartButtonEl.disabled = true;  // To prevent multiple clicks.\n",
              "      quickchartButtonEl.classList.add('colab-df-spinner');\n",
              "      try {\n",
              "        const charts = await google.colab.kernel.invokeFunction(\n",
              "            'suggestCharts', [key], {});\n",
              "      } catch (error) {\n",
              "        console.error('Error during call to suggestCharts:', error);\n",
              "      }\n",
              "      quickchartButtonEl.classList.remove('colab-df-spinner');\n",
              "      quickchartButtonEl.classList.add('colab-df-quickchart-complete');\n",
              "    }\n",
              "    (() => {\n",
              "      let quickchartButtonEl =\n",
              "        document.querySelector('#df-a5fc1bb4-097c-4749-b1aa-c283fd491d45 button');\n",
              "      quickchartButtonEl.style.display =\n",
              "        google.colab.kernel.accessAllowed ? 'block' : 'none';\n",
              "    })();\n",
              "  </script>\n",
              "</div>\n",
              "\n",
              "    </div>\n",
              "  </div>\n"
            ],
            "application/vnd.google.colaboratory.intrinsic+json": {
              "type": "dataframe",
              "variable_name": "df"
            }
          },
          "metadata": {},
          "execution_count": 41
        }
      ]
    },
    {
      "cell_type": "code",
      "source": [
        "df.info()"
      ],
      "metadata": {
        "colab": {
          "base_uri": "https://localhost:8080/"
        },
        "id": "wxQHGIsCGnrR",
        "outputId": "2f1f7e1e-0da5-42be-ca2f-488c65b3f08e"
      },
      "execution_count": null,
      "outputs": [
        {
          "output_type": "stream",
          "name": "stdout",
          "text": [
            "<class 'pandas.core.frame.DataFrame'>\n",
            "RangeIndex: 284807 entries, 0 to 284806\n",
            "Data columns (total 31 columns):\n",
            " #   Column  Non-Null Count   Dtype  \n",
            "---  ------  --------------   -----  \n",
            " 0   Time    284807 non-null  float64\n",
            " 1   V1      284807 non-null  float64\n",
            " 2   V2      284807 non-null  float64\n",
            " 3   V3      284807 non-null  float64\n",
            " 4   V4      284807 non-null  float64\n",
            " 5   V5      284807 non-null  float64\n",
            " 6   V6      284807 non-null  float64\n",
            " 7   V7      284807 non-null  float64\n",
            " 8   V8      284807 non-null  float64\n",
            " 9   V9      284807 non-null  float64\n",
            " 10  V10     284807 non-null  float64\n",
            " 11  V11     284807 non-null  float64\n",
            " 12  V12     284807 non-null  float64\n",
            " 13  V13     284807 non-null  float64\n",
            " 14  V14     284807 non-null  float64\n",
            " 15  V15     284807 non-null  float64\n",
            " 16  V16     284807 non-null  float64\n",
            " 17  V17     284807 non-null  float64\n",
            " 18  V18     284807 non-null  float64\n",
            " 19  V19     284807 non-null  float64\n",
            " 20  V20     284807 non-null  float64\n",
            " 21  V21     284807 non-null  float64\n",
            " 22  V22     284807 non-null  float64\n",
            " 23  V23     284807 non-null  float64\n",
            " 24  V24     284807 non-null  float64\n",
            " 25  V25     284807 non-null  float64\n",
            " 26  V26     284807 non-null  float64\n",
            " 27  V27     284807 non-null  float64\n",
            " 28  V28     284807 non-null  float64\n",
            " 29  Amount  284807 non-null  float64\n",
            " 30  Class   284807 non-null  int64  \n",
            "dtypes: float64(30), int64(1)\n",
            "memory usage: 67.4 MB\n"
          ]
        }
      ]
    },
    {
      "cell_type": "code",
      "source": [
        "# 결측치 확인\n",
        "df.isnull().sum().sum()"
      ],
      "metadata": {
        "id": "DkEl2MBjOBZF",
        "colab": {
          "base_uri": "https://localhost:8080/"
        },
        "outputId": "2a6ecf89-e4c1-4dba-cda4-dac27144e963"
      },
      "execution_count": null,
      "outputs": [
        {
          "output_type": "execute_result",
          "data": {
            "text/plain": [
              "0"
            ]
          },
          "metadata": {},
          "execution_count": 5
        }
      ]
    },
    {
      "cell_type": "code",
      "source": [
        "# 컬럼확인\n",
        "df.columns"
      ],
      "metadata": {
        "colab": {
          "base_uri": "https://localhost:8080/"
        },
        "id": "TrR7kHa0NLKi",
        "outputId": "11df1bcd-e376-411e-b765-698350aa0c79"
      },
      "execution_count": null,
      "outputs": [
        {
          "output_type": "execute_result",
          "data": {
            "text/plain": [
              "Index(['Time', 'V1', 'V2', 'V3', 'V4', 'V5', 'V6', 'V7', 'V8', 'V9', 'V10',\n",
              "       'V11', 'V12', 'V13', 'V14', 'V15', 'V16', 'V17', 'V18', 'V19', 'V20',\n",
              "       'V21', 'V22', 'V23', 'V24', 'V25', 'V26', 'V27', 'V28', 'Amount',\n",
              "       'Class'],\n",
              "      dtype='object')"
            ]
          },
          "metadata": {},
          "execution_count": 7
        }
      ]
    },
    {
      "cell_type": "code",
      "source": [
        "# Classes 비율\n",
        "Normal = len(df[df.Class == 0])\n",
        "Fraud = len(df[df.Class == 1])\n",
        "Fraud_percent = (Fraud / (Fraud+Normal)) *100\n",
        "\n",
        "print(df.Class.value_counts())\n",
        "print('Percentage of Fraud transactions: {:.4f}'.format(Fraud_percent))"
      ],
      "metadata": {
        "colab": {
          "base_uri": "https://localhost:8080/"
        },
        "id": "8WbwFflsNT9T",
        "outputId": "a9f03264-9815-4579-bc63-701a7bdf1faa"
      },
      "execution_count": null,
      "outputs": [
        {
          "output_type": "stream",
          "name": "stdout",
          "text": [
            "Class\n",
            "0    284315\n",
            "1       492\n",
            "Name: count, dtype: int64\n",
            "Percentage of Fraud transactions: 0.1727\n"
          ]
        }
      ]
    },
    {
      "cell_type": "code",
      "source": [
        "# Class 분포 시각화\n",
        "import matplotlib.pyplot as plt\n",
        "Labels = ['Normal', 'Fraud']\n",
        "\n",
        "count_classes = pd.value_counts(df['Class'], sort = True)\n",
        "count_classes.plot(kind = 'bar', rot = 0)\n",
        "plt.title('Class Distributions')\n",
        "plt.xticks(range(2), Labels)\n",
        "plt.ylabel('Frequency')\n",
        "plt.show()"
      ],
      "metadata": {
        "colab": {
          "base_uri": "https://localhost:8080/",
          "height": 472
        },
        "id": "Igvwrp1fIczl",
        "outputId": "42e23509-bb1f-4820-ddf9-a91ec03346a4"
      },
      "execution_count": null,
      "outputs": [
        {
          "output_type": "display_data",
          "data": {
            "text/plain": [
              "<Figure size 640x480 with 1 Axes>"
            ],
            "image/png": "[encoded data removed]"
          },
          "metadata": {}
        }
      ]
    },
    {
      "cell_type": "markdown",
      "source": [
        "정상거래가 99.8% 정도로 클래스 불균형이 매우 심한 것을 알 수 있다.이 데이터를 활용하여 이상거래 탐지 예측 모델을 만들면, 대부분 이상거래가 아니라고 가정하기 때문에 오버피팅 될 가능성이 높다."
      ],
      "metadata": {
        "id": "UA-7JooSO9y5"
      }
    },
    {
      "cell_type": "code",
      "source": [
        "# Amounts, Time 분포 확인\n",
        "amount_val = df['Amount'].values\n",
        "time_val = df['Time'].values\n",
        "\n",
        "plt.subplot(2,1,1)\n",
        "plt.title('Transaction Time Distribution')\n",
        "plt.hist(time_val, bins = 35)\n",
        "\n",
        "plt.subplot(2,1,2)\n",
        "plt.title('Transaction Amount Distribution')\n",
        "plt.hist(amount_val, bins = 35)\n",
        "\n",
        "plt.subplots_adjust(hspace = 0.5)\n",
        "plt.show()"
      ],
      "metadata": {
        "colab": {
          "base_uri": "https://localhost:8080/",
          "height": 452
        },
        "id": "g2Lb6Wqceh6R",
        "outputId": "6cbe8e6d-f833-4ff6-a377-e5c3f9a9a3f7"
      },
      "execution_count": null,
      "outputs": [
        {
          "output_type": "display_data",
          "data": {
            "text/plain": [
              "<Figure size 640x480 with 2 Axes>"
            ],
            "image/png": "[encoded data removed]"
          },
          "metadata": {}
        }
      ]
    },
    {
      "cell_type": "code",
      "source": [
        "# Class별 Amounts 확인하기\n",
        "fraud = df[df['Class'] == 1]\n",
        "normal = df[df['Class'] == 0]\n",
        "\n",
        "pd.concat([fraud.Amount.describe(), normal.Amount.describe()], axis = 1)"
      ],
      "metadata": {
        "colab": {
          "base_uri": "https://localhost:8080/",
          "height": 300
        },
        "id": "RRh6HLd-QOOf",
        "outputId": "107d007d-b018-44be-a241-221500ba88a7"
      },
      "execution_count": null,
      "outputs": [
        {
          "output_type": "execute_result",
          "data": {
            "text/plain": [
              "       Amount    Amount\n",
              "count  492.00 284315.00\n",
              "mean   122.21     88.29\n",
              "std    256.68    250.11\n",
              "min      0.00      0.00\n",
              "25%      1.00      5.65\n",
              "50%      9.25     22.00\n",
              "75%    105.89     77.05\n",
              "max   2125.87  25691.16"
            ],
            "text/html": [
              "\n",
              "  <div id=\"df-407cde73-7b6f-4567-8be8-448a44ac3f87\" class=\"colab-df-container\">\n",
              "    <div>\n",
              "<style scoped>\n",
              "    .dataframe tbody tr th:only-of-type {\n",
              "        vertical-align: middle;\n",
              "    }\n",
              "\n",
              "    .dataframe tbody tr th {\n",
              "        vertical-align: top;\n",
              "    }\n",
              "\n",
              "    .dataframe thead th {\n",
              "        text-align: right;\n",
              "    }\n",
              "</style>\n",
              "<table border=\"1\" class=\"dataframe\">\n",
              "  <thead>\n",
              "    <tr style=\"text-align: right;\">\n",
              "      <th></th>\n",
              "      <th>Amount</th>\n",
              "      <th>Amount</th>\n",
              "    </tr>\n",
              "  </thead>\n",
              "  <tbody>\n",
              "    <tr>\n",
              "      <th>count</th>\n",
              "      <td>492.00</td>\n",
              "      <td>284315.00</td>\n",
              "    </tr>\n",
              "    <tr>\n",
              "      <th>mean</th>\n",
              "      <td>122.21</td>\n",
              "      <td>88.29</td>\n",
              "    </tr>\n",
              "    <tr>\n",
              "      <th>std</th>\n",
              "      <td>256.68</td>\n",
              "      <td>250.11</td>\n",
              "    </tr>\n",
              "    <tr>\n",
              "      <th>min</th>\n",
              "      <td>0.00</td>\n",
              "      <td>0.00</td>\n",
              "    </tr>\n",
              "    <tr>\n",
              "      <th>25%</th>\n",
              "      <td>1.00</td>\n",
              "      <td>5.65</td>\n",
              "    </tr>\n",
              "    <tr>\n",
              "      <th>50%</th>\n",
              "      <td>9.25</td>\n",
              "      <td>22.00</td>\n",
              "    </tr>\n",
              "    <tr>\n",
              "      <th>75%</th>\n",
              "      <td>105.89</td>\n",
              "      <td>77.05</td>\n",
              "    </tr>\n",
              "    <tr>\n",
              "      <th>max</th>\n",
              "      <td>2125.87</td>\n",
              "      <td>25691.16</td>\n",
              "    </tr>\n",
              "  </tbody>\n",
              "</table>\n",
              "</div>\n",
              "    <div class=\"colab-df-buttons\">\n",
              "\n",
              "  <div class=\"colab-df-container\">\n",
              "    <button class=\"colab-df-convert\" onclick=\"convertToInteractive('df-407cde73-7b6f-4567-8be8-448a44ac3f87')\"\n",
              "            title=\"Convert this dataframe to an interactive table.\"\n",
              "            style=\"display:none;\">\n",
              "\n",
              "  <svg xmlns=\"http://www.w3.org/2000/svg\" height=\"24px\" viewBox=\"0 -960 960 960\">\n",
              "    <path d=\"M120-120v-720h720v720H120Zm60-500h600v-160H180v160Zm220 220h160v-160H400v160Zm0 220h160v-160H400v160ZM180-400h160v-160H180v160Zm440 0h160v-160H620v160ZM180-180h160v-160H180v160Zm440 0h160v-160H620v160Z\"/>\n",
              "  </svg>\n",
              "    </button>\n",
              "\n",
              "  <style>\n",
              "    .colab-df-container {\n",
              "      display:flex;\n",
              "      gap: 12px;\n",
              "    }\n",
              "\n",
              "    .colab-df-convert {\n",
              "      background-color: #E8F0FE;\n",
              "      border: none;\n",
              "      border-radius: 50%;\n",
              "      cursor: pointer;\n",
              "      display: none;\n",
              "      fill: #1967D2;\n",
              "      height: 32px;\n",
              "      padding: 0 0 0 0;\n",
              "      width: 32px;\n",
              "    }\n",
              "\n",
              "    .colab-df-convert:hover {\n",
              "      background-color: #E2EBFA;\n",
              "      box-shadow: 0px 1px 2px rgba(60, 64, 67, 0.3), 0px 1px 3px 1px rgba(60, 64, 67, 0.15);\n",
              "      fill: #174EA6;\n",
              "    }\n",
              "\n",
              "    .colab-df-buttons div {\n",
              "      margin-bottom: 4px;\n",
              "    }\n",
              "\n",
              "    [theme=dark] .colab-df-convert {\n",
              "      background-color: #3B4455;\n",
              "      fill: #D2E3FC;\n",
              "    }\n",
              "\n",
              "    [theme=dark] .colab-df-convert:hover {\n",
              "      background-color: #434B5C;\n",
              "      box-shadow: 0px 1px 3px 1px rgba(0, 0, 0, 0.15);\n",
              "      filter: drop-shadow(0px 1px 2px rgba(0, 0, 0, 0.3));\n",
              "      fill: #FFFFFF;\n",
              "    }\n",
              "  </style>\n",
              "\n",
              "    <script>\n",
              "      const buttonEl =\n",
              "        document.querySelector('#df-407cde73-7b6f-4567-8be8-448a44ac3f87 button.colab-df-convert');\n",
              "      buttonEl.style.display =\n",
              "        google.colab.kernel.accessAllowed ? 'block' : 'none';\n",
              "\n",
              "      async function convertToInteractive(key) {\n",
              "        const element = document.querySelector('#df-407cde73-7b6f-4567-8be8-448a44ac3f87');\n",
              "        const dataTable =\n",
              "          await google.colab.kernel.invokeFunction('convertToInteractive',\n",
              "                                                    [key], {});\n",
              "        if (!dataTable) return;\n",
              "\n",
              "        const docLinkHtml = 'Like what you see? Visit the ' +\n",
              "          '<a target=\"_blank\" href=https://colab.research.google.com/notebooks/data_table.ipynb>data table notebook</a>'\n",
              "          + ' to learn more about interactive tables.';\n",
              "        element.innerHTML = '';\n",
              "        dataTable['output_type'] = 'display_data';\n",
              "        await google.colab.output.renderOutput(dataTable, element);\n",
              "        const docLink = document.createElement('div');\n",
              "        docLink.innerHTML = docLinkHtml;\n",
              "        element.appendChild(docLink);\n",
              "      }\n",
              "    </script>\n",
              "  </div>\n",
              "\n",
              "\n",
              "<div id=\"df-6f3c4ccc-1ab7-447d-809e-055359fe2a55\">\n",
              "  <button class=\"colab-df-quickchart\" onclick=\"quickchart('df-6f3c4ccc-1ab7-447d-809e-055359fe2a55')\"\n",
              "            title=\"Suggest charts\"\n",
              "            style=\"display:none;\">\n",
              "\n",
              "<svg xmlns=\"http://www.w3.org/2000/svg\" height=\"24px\"viewBox=\"0 0 24 24\"\n",
              "     width=\"24px\">\n",
              "    <g>\n",
              "        <path d=\"M19 3H5c-1.1 0-2 .9-2 2v14c0 1.1.9 2 2 2h14c1.1 0 2-.9 2-2V5c0-1.1-.9-2-2-2zM9 17H7v-7h2v7zm4 0h-2V7h2v10zm4 0h-2v-4h2v4z\"/>\n",
              "    </g>\n",
              "</svg>\n",
              "  </button>\n",
              "\n",
              "<style>\n",
              "  .colab-df-quickchart {\n",
              "      --bg-color: #E8F0FE;\n",
              "      --fill-color: #1967D2;\n",
              "      --hover-bg-color: #E2EBFA;\n",
              "      --hover-fill-color: #174EA6;\n",
              "      --disabled-fill-color: #AAA;\n",
              "      --disabled-bg-color: #DDD;\n",
              "  }\n",
              "\n",
              "  [theme=dark] .colab-df-quickchart {\n",
              "      --bg-color: #3B4455;\n",
              "      --fill-color: #D2E3FC;\n",
              "      --hover-bg-color: #434B5C;\n",
              "      --hover-fill-color: #FFFFFF;\n",
              "      --disabled-bg-color: #3B4455;\n",
              "      --disabled-fill-color: #666;\n",
              "  }\n",
              "\n",
              "  .colab-df-quickchart {\n",
              "    background-color: var(--bg-color);\n",
              "    border: none;\n",
              "    border-radius: 50%;\n",
              "    cursor: pointer;\n",
              "    display: none;\n",
              "    fill: var(--fill-color);\n",
              "    height: 32px;\n",
              "    padding: 0;\n",
              "    width: 32px;\n",
              "  }\n",
              "\n",
              "  .colab-df-quickchart:hover {\n",
              "    background-color: var(--hover-bg-color);\n",
              "    box-shadow: 0 1px 2px rgba(60, 64, 67, 0.3), 0 1px 3px 1px rgba(60, 64, 67, 0.15);\n",
              "    fill: var(--button-hover-fill-color);\n",
              "  }\n",
              "\n",
              "  .colab-df-quickchart-complete:disabled,\n",
              "  .colab-df-quickchart-complete:disabled:hover {\n",
              "    background-color: var(--disabled-bg-color);\n",
              "    fill: var(--disabled-fill-color);\n",
              "    box-shadow: none;\n",
              "  }\n",
              "\n",
              "  .colab-df-spinner {\n",
              "    border: 2px solid var(--fill-color);\n",
              "    border-color: transparent;\n",
              "    border-bottom-color: var(--fill-color);\n",
              "    animation:\n",
              "      spin 1s steps(1) infinite;\n",
              "  }\n",
              "\n",
              "  @keyframes spin {\n",
              "    0% {\n",
              "      border-color: transparent;\n",
              "      border-bottom-color: var(--fill-color);\n",
              "      border-left-color: var(--fill-color);\n",
              "    }\n",
              "    20% {\n",
              "      border-color: transparent;\n",
              "      border-left-color: var(--fill-color);\n",
              "      border-top-color: var(--fill-color);\n",
              "    }\n",
              "    30% {\n",
              "      border-color: transparent;\n",
              "      border-left-color: var(--fill-color);\n",
              "      border-top-color: var(--fill-color);\n",
              "      border-right-color: var(--fill-color);\n",
              "    }\n",
              "    40% {\n",
              "      border-color: transparent;\n",
              "      border-right-color: var(--fill-color);\n",
              "      border-top-color: var(--fill-color);\n",
              "    }\n",
              "    60% {\n",
              "      border-color: transparent;\n",
              "      border-right-color: var(--fill-color);\n",
              "    }\n",
              "    80% {\n",
              "      border-color: transparent;\n",
              "      border-right-color: var(--fill-color);\n",
              "      border-bottom-color: var(--fill-color);\n",
              "    }\n",
              "    90% {\n",
              "      border-color: transparent;\n",
              "      border-bottom-color: var(--fill-color);\n",
              "    }\n",
              "  }\n",
              "</style>\n",
              "\n",
              "  <script>\n",
              "    async function quickchart(key) {\n",
              "      const quickchartButtonEl =\n",
              "        document.querySelector('#' + key + ' button');\n",
              "      quickchartButtonEl.disabled = true;  // To prevent multiple clicks.\n",
              "      quickchartButtonEl.classList.add('colab-df-spinner');\n",
              "      try {\n",
              "        const charts = await google.colab.kernel.invokeFunction(\n",
              "            'suggestCharts', [key], {});\n",
              "      } catch (error) {\n",
              "        console.error('Error during call to suggestCharts:', error);\n",
              "      }\n",
              "      quickchartButtonEl.classList.remove('colab-df-spinner');\n",
              "      quickchartButtonEl.classList.add('colab-df-quickchart-complete');\n",
              "    }\n",
              "    (() => {\n",
              "      let quickchartButtonEl =\n",
              "        document.querySelector('#df-6f3c4ccc-1ab7-447d-809e-055359fe2a55 button');\n",
              "      quickchartButtonEl.style.display =\n",
              "        google.colab.kernel.accessAllowed ? 'block' : 'none';\n",
              "    })();\n",
              "  </script>\n",
              "</div>\n",
              "\n",
              "    </div>\n",
              "  </div>\n"
            ],
            "application/vnd.google.colaboratory.intrinsic+json": {
              "type": "dataframe",
              "summary": "{\n  \"name\": \"pd\",\n  \"rows\": 8,\n  \"fields\": [\n    {\n      \"column\": \"Amount\",\n      \"properties\": {\n        \"dtype\": \"number\",\n        \"std\": 721.3317584831491,\n        \"min\": 0.0,\n        \"max\": 2125.87,\n        \"num_unique_values\": 8,\n        \"samples\": [\n          122.21132113821139,\n          9.25,\n          492.0\n        ],\n        \"semantic_type\": \"\",\n        \"description\": \"\"\n      }\n    },\n    {\n      \"column\": \"Amount\",\n      \"properties\": {\n        \"dtype\": \"number\",\n        \"std\": 99604.78269488375,\n        \"min\": 0.0,\n        \"max\": 284315.0,\n        \"num_unique_values\": 8,\n        \"samples\": [\n          88.29102242231328,\n          22.0,\n          284315.0\n        ],\n        \"semantic_type\": \"\",\n        \"description\": \"\"\n      }\n    }\n  ]\n}"
            }
          },
          "metadata": {},
          "execution_count": 14
        }
      ]
    },
    {
      "cell_type": "code",
      "source": [
        "# Class별 Time 확인하기\n",
        "pd.concat([fraud.Time.describe(), normal.Time.describe()], axis = 1)"
      ],
      "metadata": {
        "colab": {
          "base_uri": "https://localhost:8080/",
          "height": 300
        },
        "id": "nuLk3NnZRCo-",
        "outputId": "52a20753-e541-4680-8c25-96b294a870e0"
      },
      "execution_count": null,
      "outputs": [
        {
          "output_type": "execute_result",
          "data": {
            "text/plain": [
              "           Time      Time\n",
              "count    492.00 284315.00\n",
              "mean   80746.81  94838.20\n",
              "std    47835.37  47484.02\n",
              "min      406.00      0.00\n",
              "25%    41241.50  54230.00\n",
              "50%    75568.50  84711.00\n",
              "75%   128483.00 139333.00\n",
              "max   170348.00 172792.00"
            ],
            "text/html": [
              "\n",
              "  <div id=\"df-f65f90f8-4125-4677-802a-f4c05200132a\" class=\"colab-df-container\">\n",
              "    <div>\n",
              "<style scoped>\n",
              "    .dataframe tbody tr th:only-of-type {\n",
              "        vertical-align: middle;\n",
              "    }\n",
              "\n",
              "    .dataframe tbody tr th {\n",
              "        vertical-align: top;\n",
              "    }\n",
              "\n",
              "    .dataframe thead th {\n",
              "        text-align: right;\n",
              "    }\n",
              "</style>\n",
              "<table border=\"1\" class=\"dataframe\">\n",
              "  <thead>\n",
              "    <tr style=\"text-align: right;\">\n",
              "      <th></th>\n",
              "      <th>Time</th>\n",
              "      <th>Time</th>\n",
              "    </tr>\n",
              "  </thead>\n",
              "  <tbody>\n",
              "    <tr>\n",
              "      <th>count</th>\n",
              "      <td>492.00</td>\n",
              "      <td>284315.00</td>\n",
              "    </tr>\n",
              "    <tr>\n",
              "      <th>mean</th>\n",
              "      <td>80746.81</td>\n",
              "      <td>94838.20</td>\n",
              "    </tr>\n",
              "    <tr>\n",
              "      <th>std</th>\n",
              "      <td>47835.37</td>\n",
              "      <td>47484.02</td>\n",
              "    </tr>\n",
              "    <tr>\n",
              "      <th>min</th>\n",
              "      <td>406.00</td>\n",
              "      <td>0.00</td>\n",
              "    </tr>\n",
              "    <tr>\n",
              "      <th>25%</th>\n",
              "      <td>41241.50</td>\n",
              "      <td>54230.00</td>\n",
              "    </tr>\n",
              "    <tr>\n",
              "      <th>50%</th>\n",
              "      <td>75568.50</td>\n",
              "      <td>84711.00</td>\n",
              "    </tr>\n",
              "    <tr>\n",
              "      <th>75%</th>\n",
              "      <td>128483.00</td>\n",
              "      <td>139333.00</td>\n",
              "    </tr>\n",
              "    <tr>\n",
              "      <th>max</th>\n",
              "      <td>170348.00</td>\n",
              "      <td>172792.00</td>\n",
              "    </tr>\n",
              "  </tbody>\n",
              "</table>\n",
              "</div>\n",
              "    <div class=\"colab-df-buttons\">\n",
              "\n",
              "  <div class=\"colab-df-container\">\n",
              "    <button class=\"colab-df-convert\" onclick=\"convertToInteractive('df-f65f90f8-4125-4677-802a-f4c05200132a')\"\n",
              "            title=\"Convert this dataframe to an interactive table.\"\n",
              "            style=\"display:none;\">\n",
              "\n",
              "  <svg xmlns=\"http://www.w3.org/2000/svg\" height=\"24px\" viewBox=\"0 -960 960 960\">\n",
              "    <path d=\"M120-120v-720h720v720H120Zm60-500h600v-160H180v160Zm220 220h160v-160H400v160Zm0 220h160v-160H400v160ZM180-400h160v-160H180v160Zm440 0h160v-160H620v160ZM180-180h160v-160H180v160Zm440 0h160v-160H620v160Z\"/>\n",
              "  </svg>\n",
              "    </button>\n",
              "\n",
              "  <style>\n",
              "    .colab-df-container {\n",
              "      display:flex;\n",
              "      gap: 12px;\n",
              "    }\n",
              "\n",
              "    .colab-df-convert {\n",
              "      background-color: #E8F0FE;\n",
              "      border: none;\n",
              "      border-radius: 50%;\n",
              "      cursor: pointer;\n",
              "      display: none;\n",
              "      fill: #1967D2;\n",
              "      height: 32px;\n",
              "      padding: 0 0 0 0;\n",
              "      width: 32px;\n",
              "    }\n",
              "\n",
              "    .colab-df-convert:hover {\n",
              "      background-color: #E2EBFA;\n",
              "      box-shadow: 0px 1px 2px rgba(60, 64, 67, 0.3), 0px 1px 3px 1px rgba(60, 64, 67, 0.15);\n",
              "      fill: #174EA6;\n",
              "    }\n",
              "\n",
              "    .colab-df-buttons div {\n",
              "      margin-bottom: 4px;\n",
              "    }\n",
              "\n",
              "    [theme=dark] .colab-df-convert {\n",
              "      background-color: #3B4455;\n",
              "      fill: #D2E3FC;\n",
              "    }\n",
              "\n",
              "    [theme=dark] .colab-df-convert:hover {\n",
              "      background-color: #434B5C;\n",
              "      box-shadow: 0px 1px 3px 1px rgba(0, 0, 0, 0.15);\n",
              "      filter: drop-shadow(0px 1px 2px rgba(0, 0, 0, 0.3));\n",
              "      fill: #FFFFFF;\n",
              "    }\n",
              "  </style>\n",
              "\n",
              "    <script>\n",
              "      const buttonEl =\n",
              "        document.querySelector('#df-f65f90f8-4125-4677-802a-f4c05200132a button.colab-df-convert');\n",
              "      buttonEl.style.display =\n",
              "        google.colab.kernel.accessAllowed ? 'block' : 'none';\n",
              "\n",
              "      async function convertToInteractive(key) {\n",
              "        const element = document.querySelector('#df-f65f90f8-4125-4677-802a-f4c05200132a');\n",
              "        const dataTable =\n",
              "          await google.colab.kernel.invokeFunction('convertToInteractive',\n",
              "                                                    [key], {});\n",
              "        if (!dataTable) return;\n",
              "\n",
              "        const docLinkHtml = 'Like what you see? Visit the ' +\n",
              "          '<a target=\"_blank\" href=https://colab.research.google.com/notebooks/data_table.ipynb>data table notebook</a>'\n",
              "          + ' to learn more about interactive tables.';\n",
              "        element.innerHTML = '';\n",
              "        dataTable['output_type'] = 'display_data';\n",
              "        await google.colab.output.renderOutput(dataTable, element);\n",
              "        const docLink = document.createElement('div');\n",
              "        docLink.innerHTML = docLinkHtml;\n",
              "        element.appendChild(docLink);\n",
              "      }\n",
              "    </script>\n",
              "  </div>\n",
              "\n",
              "\n",
              "<div id=\"df-faefe32e-ac32-4cbe-bbd2-626ba13fc943\">\n",
              "  <button class=\"colab-df-quickchart\" onclick=\"quickchart('df-faefe32e-ac32-4cbe-bbd2-626ba13fc943')\"\n",
              "            title=\"Suggest charts\"\n",
              "            style=\"display:none;\">\n",
              "\n",
              "<svg xmlns=\"http://www.w3.org/2000/svg\" height=\"24px\"viewBox=\"0 0 24 24\"\n",
              "     width=\"24px\">\n",
              "    <g>\n",
              "        <path d=\"M19 3H5c-1.1 0-2 .9-2 2v14c0 1.1.9 2 2 2h14c1.1 0 2-.9 2-2V5c0-1.1-.9-2-2-2zM9 17H7v-7h2v7zm4 0h-2V7h2v10zm4 0h-2v-4h2v4z\"/>\n",
              "    </g>\n",
              "</svg>\n",
              "  </button>\n",
              "\n",
              "<style>\n",
              "  .colab-df-quickchart {\n",
              "      --bg-color: #E8F0FE;\n",
              "      --fill-color: #1967D2;\n",
              "      --hover-bg-color: #E2EBFA;\n",
              "      --hover-fill-color: #174EA6;\n",
              "      --disabled-fill-color: #AAA;\n",
              "      --disabled-bg-color: #DDD;\n",
              "  }\n",
              "\n",
              "  [theme=dark] .colab-df-quickchart {\n",
              "      --bg-color: #3B4455;\n",
              "      --fill-color: #D2E3FC;\n",
              "      --hover-bg-color: #434B5C;\n",
              "      --hover-fill-color: #FFFFFF;\n",
              "      --disabled-bg-color: #3B4455;\n",
              "      --disabled-fill-color: #666;\n",
              "  }\n",
              "\n",
              "  .colab-df-quickchart {\n",
              "    background-color: var(--bg-color);\n",
              "    border: none;\n",
              "    border-radius: 50%;\n",
              "    cursor: pointer;\n",
              "    display: none;\n",
              "    fill: var(--fill-color);\n",
              "    height: 32px;\n",
              "    padding: 0;\n",
              "    width: 32px;\n",
              "  }\n",
              "\n",
              "  .colab-df-quickchart:hover {\n",
              "    background-color: var(--hover-bg-color);\n",
              "    box-shadow: 0 1px 2px rgba(60, 64, 67, 0.3), 0 1px 3px 1px rgba(60, 64, 67, 0.15);\n",
              "    fill: var(--button-hover-fill-color);\n",
              "  }\n",
              "\n",
              "  .colab-df-quickchart-complete:disabled,\n",
              "  .colab-df-quickchart-complete:disabled:hover {\n",
              "    background-color: var(--disabled-bg-color);\n",
              "    fill: var(--disabled-fill-color);\n",
              "    box-shadow: none;\n",
              "  }\n",
              "\n",
              "  .colab-df-spinner {\n",
              "    border: 2px solid var(--fill-color);\n",
              "    border-color: transparent;\n",
              "    border-bottom-color: var(--fill-color);\n",
              "    animation:\n",
              "      spin 1s steps(1) infinite;\n",
              "  }\n",
              "\n",
              "  @keyframes spin {\n",
              "    0% {\n",
              "      border-color: transparent;\n",
              "      border-bottom-color: var(--fill-color);\n",
              "      border-left-color: var(--fill-color);\n",
              "    }\n",
              "    20% {\n",
              "      border-color: transparent;\n",
              "      border-left-color: var(--fill-color);\n",
              "      border-top-color: var(--fill-color);\n",
              "    }\n",
              "    30% {\n",
              "      border-color: transparent;\n",
              "      border-left-color: var(--fill-color);\n",
              "      border-top-color: var(--fill-color);\n",
              "      border-right-color: var(--fill-color);\n",
              "    }\n",
              "    40% {\n",
              "      border-color: transparent;\n",
              "      border-right-color: var(--fill-color);\n",
              "      border-top-color: var(--fill-color);\n",
              "    }\n",
              "    60% {\n",
              "      border-color: transparent;\n",
              "      border-right-color: var(--fill-color);\n",
              "    }\n",
              "    80% {\n",
              "      border-color: transparent;\n",
              "      border-right-color: var(--fill-color);\n",
              "      border-bottom-color: var(--fill-color);\n",
              "    }\n",
              "    90% {\n",
              "      border-color: transparent;\n",
              "      border-bottom-color: var(--fill-color);\n",
              "    }\n",
              "  }\n",
              "</style>\n",
              "\n",
              "  <script>\n",
              "    async function quickchart(key) {\n",
              "      const quickchartButtonEl =\n",
              "        document.querySelector('#' + key + ' button');\n",
              "      quickchartButtonEl.disabled = true;  // To prevent multiple clicks.\n",
              "      quickchartButtonEl.classList.add('colab-df-spinner');\n",
              "      try {\n",
              "        const charts = await google.colab.kernel.invokeFunction(\n",
              "            'suggestCharts', [key], {});\n",
              "      } catch (error) {\n",
              "        console.error('Error during call to suggestCharts:', error);\n",
              "      }\n",
              "      quickchartButtonEl.classList.remove('colab-df-spinner');\n",
              "      quickchartButtonEl.classList.add('colab-df-quickchart-complete');\n",
              "    }\n",
              "    (() => {\n",
              "      let quickchartButtonEl =\n",
              "        document.querySelector('#df-faefe32e-ac32-4cbe-bbd2-626ba13fc943 button');\n",
              "      quickchartButtonEl.style.display =\n",
              "        google.colab.kernel.accessAllowed ? 'block' : 'none';\n",
              "    })();\n",
              "  </script>\n",
              "</div>\n",
              "\n",
              "    </div>\n",
              "  </div>\n"
            ],
            "application/vnd.google.colaboratory.intrinsic+json": {
              "type": "dataframe",
              "summary": "{\n  \"name\": \"pd\",\n  \"rows\": 8,\n  \"fields\": [\n    {\n      \"column\": \"Time\",\n      \"properties\": {\n        \"dtype\": \"number\",\n        \"std\": 59283.60561704464,\n        \"min\": 406.0,\n        \"max\": 170348.0,\n        \"num_unique_values\": 8,\n        \"samples\": [\n          80746.80691056911,\n          75568.5,\n          492.0\n        ],\n        \"semantic_type\": \"\",\n        \"description\": \"\"\n      }\n    },\n    {\n      \"column\": \"Time\",\n      \"properties\": {\n        \"dtype\": \"number\",\n        \"std\": 88782.45868505895,\n        \"min\": 0.0,\n        \"max\": 284315.0,\n        \"num_unique_values\": 8,\n        \"samples\": [\n          94838.20225805884,\n          84711.0,\n          284315.0\n        ],\n        \"semantic_type\": \"\",\n        \"description\": \"\"\n      }\n    }\n  ]\n}"
            }
          },
          "metadata": {},
          "execution_count": 15
        }
      ]
    },
    {
      "cell_type": "code",
      "source": [
        "# Class별 Tim 분포 시각화\n",
        "import matplotlib.pyplot as plt\n",
        "\n",
        "plt.figure(figsize=(14, 12))\n",
        "\n",
        "plt.subplot(2, 2, 1)\n",
        "fraud['Time'].hist(bins=35, color='blue', alpha=0.6)\n",
        "plt.title('Fraud_Time_Distribution')\n",
        "\n",
        "plt.subplot(2, 2, 2)\n",
        "normal['Time'].hist(bins=35, color='blue', alpha=0.6)\n",
        "plt.title('Normal_Time_Distribution')\n",
        "\n",
        "plt.show()"
      ],
      "metadata": {
        "colab": {
          "base_uri": "https://localhost:8080/",
          "height": 292
        },
        "id": "uEglhNGxSOsk",
        "outputId": "4cbc6948-9cac-44d5-d090-09a7e074085b"
      },
      "execution_count": null,
      "outputs": [
        {
          "output_type": "display_data",
          "data": {
            "text/plain": [
              "<Figure size 1400x1200 with 2 Axes>"
            ],
            "image/png": "[encoded data removed]"
          },
          "metadata": {}
        }
      ]
    },
    {
      "cell_type": "markdown",
      "source": [
        "분포 시각화를 통해 특정 시간대에 거래가 치우쳐져 있음을 확인할 수 있고, 이에 데이터 scaling 필요함을 확인할 수 있다."
      ],
      "metadata": {
        "id": "a4XlZC8YXekP"
      }
    },
    {
      "cell_type": "markdown",
      "source": [
        "# 2. 데이터 전처리"
      ],
      "metadata": {
        "id": "VW5wWSxwDisH"
      }
    },
    {
      "cell_type": "markdown",
      "source": [
        "### Scaling"
      ],
      "metadata": {
        "id": "BaYeRT54KiEn"
      }
    },
    {
      "cell_type": "markdown",
      "source": [
        "- Min-Max scaling\n",
        "- Standard scaling\n",
        "- Robust scaling : 중앙값, 평균편차 이용\n",
        "- Normalization scaling\n",
        "- Log scaling\n",
        "- Exponential scaling\n",
        "\n",
        "outlier에 강한 Robust Scaler를 사용하였다.\n",
        "MinMax scaler 또는 Standard Scaler와 같이 평균, 표준편차를 쓰면 이상값에 영향을 많이 받는데 Robust Scaler는 중앙값, 사분위수 값을 사용하여 덜 민감하다."
      ],
      "metadata": {
        "id": "wCRfXjrjJQgW"
      }
    },
    {
      "cell_type": "code",
      "source": [
        "# 데이터 표준화 : Robust Scaler\n",
        "from sklearn.preprocessing import RobustScaler\n",
        "rs = RobustScaler()\n",
        "df['scaled_amount'] = rs.fit_transform(df['Amount'].values.reshape(-1,1))\n",
        "df['scaled_time'] = rs.fit_transform(df['Time'].values.reshape(-1,1))\n",
        "\n",
        "df.drop(['Time', 'Amount'], axis=1, inplace=True)\n",
        "scaled_amount = df['scaled_amount']\n",
        "scaled_time = df['scaled_time']\n",
        "df.drop(['scaled_amount', 'scaled_time'], axis=1, inplace=True)\n",
        "df.insert(0, 'scaled_amount', scaled_amount)\n",
        "df.insert(0, 'scaled_time', scaled_time)\n",
        "df.head()"
      ],
      "metadata": {
        "colab": {
          "base_uri": "https://localhost:8080/",
          "height": 255
        },
        "id": "SLHxRPXtJHmG",
        "outputId": "037969bd-f35d-44f3-a996-eed779e628a1"
      },
      "execution_count": null,
      "outputs": [
        {
          "output_type": "execute_result",
          "data": {
            "text/plain": [
              "   scaled_time  scaled_amount    V1    V2   V3    V4    V5    V6    V7    V8  \\\n",
              "0        -0.99           1.78 -1.36 -0.07 2.54  1.38 -0.34  0.46  0.24  0.10   \n",
              "1        -0.99          -0.27  1.19  0.27 0.17  0.45  0.06 -0.08 -0.08  0.09   \n",
              "2        -0.99           4.98 -1.36 -1.34 1.77  0.38 -0.50  1.80  0.79  0.25   \n",
              "3        -0.99           1.42 -0.97 -0.19 1.79 -0.86 -0.01  1.25  0.24  0.38   \n",
              "4        -0.99           0.67 -1.16  0.88 1.55  0.40 -0.41  0.10  0.59 -0.27   \n",
              "\n",
              "   ...   V20   V21   V22   V23   V24   V25   V26   V27   V28  Class  \n",
              "0  ...  0.25 -0.02  0.28 -0.11  0.07  0.13 -0.19  0.13 -0.02      0  \n",
              "1  ... -0.07 -0.23 -0.64  0.10 -0.34  0.17  0.13 -0.01  0.01      0  \n",
              "2  ...  0.52  0.25  0.77  0.91 -0.69 -0.33 -0.14 -0.06 -0.06      0  \n",
              "3  ... -0.21 -0.11  0.01 -0.19 -1.18  0.65 -0.22  0.06  0.06      0  \n",
              "4  ...  0.41 -0.01  0.80 -0.14  0.14 -0.21  0.50  0.22  0.22      0  \n",
              "\n",
              "[5 rows x 31 columns]"
            ],
            "text/html": [
              "\n",
              "  <div id=\"df-b5646c4d-fbde-4a07-b648-c661792a09d3\" class=\"colab-df-container\">\n",
              "    <div>\n",
              "<style scoped>\n",
              "    .dataframe tbody tr th:only-of-type {\n",
              "        vertical-align: middle;\n",
              "    }\n",
              "\n",
              "    .dataframe tbody tr th {\n",
              "        vertical-align: top;\n",
              "    }\n",
              "\n",
              "    .dataframe thead th {\n",
              "        text-align: right;\n",
              "    }\n",
              "</style>\n",
              "<table border=\"1\" class=\"dataframe\">\n",
              "  <thead>\n",
              "    <tr style=\"text-align: right;\">\n",
              "      <th></th>\n",
              "      <th>scaled_time</th>\n",
              "      <th>scaled_amount</th>\n",
              "      <th>V1</th>\n",
              "      <th>V2</th>\n",
              "      <th>V3</th>\n",
              "      <th>V4</th>\n",
              "      <th>V5</th>\n",
              "      <th>V6</th>\n",
              "      <th>V7</th>\n",
              "      <th>V8</th>\n",
              "      <th>...</th>\n",
              "      <th>V20</th>\n",
              "      <th>V21</th>\n",
              "      <th>V22</th>\n",
              "      <th>V23</th>\n",
              "      <th>V24</th>\n",
              "      <th>V25</th>\n",
              "      <th>V26</th>\n",
              "      <th>V27</th>\n",
              "      <th>V28</th>\n",
              "      <th>Class</th>\n",
              "    </tr>\n",
              "  </thead>\n",
              "  <tbody>\n",
              "    <tr>\n",
              "      <th>0</th>\n",
              "      <td>-0.99</td>\n",
              "      <td>1.78</td>\n",
              "      <td>-1.36</td>\n",
              "      <td>-0.07</td>\n",
              "      <td>2.54</td>\n",
              "      <td>1.38</td>\n",
              "      <td>-0.34</td>\n",
              "      <td>0.46</td>\n",
              "      <td>0.24</td>\n",
              "      <td>0.10</td>\n",
              "      <td>...</td>\n",
              "      <td>0.25</td>\n",
              "      <td>-0.02</td>\n",
              "      <td>0.28</td>\n",
              "      <td>-0.11</td>\n",
              "      <td>0.07</td>\n",
              "      <td>0.13</td>\n",
              "      <td>-0.19</td>\n",
              "      <td>0.13</td>\n",
              "      <td>-0.02</td>\n",
              "      <td>0</td>\n",
              "    </tr>\n",
              "    <tr>\n",
              "      <th>1</th>\n",
              "      <td>-0.99</td>\n",
              "      <td>-0.27</td>\n",
              "      <td>1.19</td>\n",
              "      <td>0.27</td>\n",
              "      <td>0.17</td>\n",
              "      <td>0.45</td>\n",
              "      <td>0.06</td>\n",
              "      <td>-0.08</td>\n",
              "      <td>-0.08</td>\n",
              "      <td>0.09</td>\n",
              "      <td>...</td>\n",
              "      <td>-0.07</td>\n",
              "      <td>-0.23</td>\n",
              "      <td>-0.64</td>\n",
              "      <td>0.10</td>\n",
              "      <td>-0.34</td>\n",
              "      <td>0.17</td>\n",
              "      <td>0.13</td>\n",
              "      <td>-0.01</td>\n",
              "      <td>0.01</td>\n",
              "      <td>0</td>\n",
              "    </tr>\n",
              "    <tr>\n",
              "      <th>2</th>\n",
              "      <td>-0.99</td>\n",
              "      <td>4.98</td>\n",
              "      <td>-1.36</td>\n",
              "      <td>-1.34</td>\n",
              "      <td>1.77</td>\n",
              "      <td>0.38</td>\n",
              "      <td>-0.50</td>\n",
              "      <td>1.80</td>\n",
              "      <td>0.79</td>\n",
              "      <td>0.25</td>\n",
              "      <td>...</td>\n",
              "      <td>0.52</td>\n",
              "      <td>0.25</td>\n",
              "      <td>0.77</td>\n",
              "      <td>0.91</td>\n",
              "      <td>-0.69</td>\n",
              "      <td>-0.33</td>\n",
              "      <td>-0.14</td>\n",
              "      <td>-0.06</td>\n",
              "      <td>-0.06</td>\n",
              "      <td>0</td>\n",
              "    </tr>\n",
              "    <tr>\n",
              "      <th>3</th>\n",
              "      <td>-0.99</td>\n",
              "      <td>1.42</td>\n",
              "      <td>-0.97</td>\n",
              "      <td>-0.19</td>\n",
              "      <td>1.79</td>\n",
              "      <td>-0.86</td>\n",
              "      <td>-0.01</td>\n",
              "      <td>1.25</td>\n",
              "      <td>0.24</td>\n",
              "      <td>0.38</td>\n",
              "      <td>...</td>\n",
              "      <td>-0.21</td>\n",
              "      <td>-0.11</td>\n",
              "      <td>0.01</td>\n",
              "      <td>-0.19</td>\n",
              "      <td>-1.18</td>\n",
              "      <td>0.65</td>\n",
              "      <td>-0.22</td>\n",
              "      <td>0.06</td>\n",
              "      <td>0.06</td>\n",
              "      <td>0</td>\n",
              "    </tr>\n",
              "    <tr>\n",
              "      <th>4</th>\n",
              "      <td>-0.99</td>\n",
              "      <td>0.67</td>\n",
              "      <td>-1.16</td>\n",
              "      <td>0.88</td>\n",
              "      <td>1.55</td>\n",
              "      <td>0.40</td>\n",
              "      <td>-0.41</td>\n",
              "      <td>0.10</td>\n",
              "      <td>0.59</td>\n",
              "      <td>-0.27</td>\n",
              "      <td>...</td>\n",
              "      <td>0.41</td>\n",
              "      <td>-0.01</td>\n",
              "      <td>0.80</td>\n",
              "      <td>-0.14</td>\n",
              "      <td>0.14</td>\n",
              "      <td>-0.21</td>\n",
              "      <td>0.50</td>\n",
              "      <td>0.22</td>\n",
              "      <td>0.22</td>\n",
              "      <td>0</td>\n",
              "    </tr>\n",
              "  </tbody>\n",
              "</table>\n",
              "<p>5 rows × 31 columns</p>\n",
              "</div>\n",
              "    <div class=\"colab-df-buttons\">\n",
              "\n",
              "  <div class=\"colab-df-container\">\n",
              "    <button class=\"colab-df-convert\" onclick=\"convertToInteractive('df-b5646c4d-fbde-4a07-b648-c661792a09d3')\"\n",
              "            title=\"Convert this dataframe to an interactive table.\"\n",
              "            style=\"display:none;\">\n",
              "\n",
              "  <svg xmlns=\"http://www.w3.org/2000/svg\" height=\"24px\" viewBox=\"0 -960 960 960\">\n",
              "    <path d=\"M120-120v-720h720v720H120Zm60-500h600v-160H180v160Zm220 220h160v-160H400v160Zm0 220h160v-160H400v160ZM180-400h160v-160H180v160Zm440 0h160v-160H620v160ZM180-180h160v-160H180v160Zm440 0h160v-160H620v160Z\"/>\n",
              "  </svg>\n",
              "    </button>\n",
              "\n",
              "  <style>\n",
              "    .colab-df-container {\n",
              "      display:flex;\n",
              "      gap: 12px;\n",
              "    }\n",
              "\n",
              "    .colab-df-convert {\n",
              "      background-color: #E8F0FE;\n",
              "      border: none;\n",
              "      border-radius: 50%;\n",
              "      cursor: pointer;\n",
              "      display: none;\n",
              "      fill: #1967D2;\n",
              "      height: 32px;\n",
              "      padding: 0 0 0 0;\n",
              "      width: 32px;\n",
              "    }\n",
              "\n",
              "    .colab-df-convert:hover {\n",
              "      background-color: #E2EBFA;\n",
              "      box-shadow: 0px 1px 2px rgba(60, 64, 67, 0.3), 0px 1px 3px 1px rgba(60, 64, 67, 0.15);\n",
              "      fill: #174EA6;\n",
              "    }\n",
              "\n",
              "    .colab-df-buttons div {\n",
              "      margin-bottom: 4px;\n",
              "    }\n",
              "\n",
              "    [theme=dark] .colab-df-convert {\n",
              "      background-color: #3B4455;\n",
              "      fill: #D2E3FC;\n",
              "    }\n",
              "\n",
              "    [theme=dark] .colab-df-convert:hover {\n",
              "      background-color: #434B5C;\n",
              "      box-shadow: 0px 1px 3px 1px rgba(0, 0, 0, 0.15);\n",
              "      filter: drop-shadow(0px 1px 2px rgba(0, 0, 0, 0.3));\n",
              "      fill: #FFFFFF;\n",
              "    }\n",
              "  </style>\n",
              "\n",
              "    <script>\n",
              "      const buttonEl =\n",
              "        document.querySelector('#df-b5646c4d-fbde-4a07-b648-c661792a09d3 button.colab-df-convert');\n",
              "      buttonEl.style.display =\n",
              "        google.colab.kernel.accessAllowed ? 'block' : 'none';\n",
              "\n",
              "      async function convertToInteractive(key) {\n",
              "        const element = document.querySelector('#df-b5646c4d-fbde-4a07-b648-c661792a09d3');\n",
              "        const dataTable =\n",
              "          await google.colab.kernel.invokeFunction('convertToInteractive',\n",
              "                                                    [key], {});\n",
              "        if (!dataTable) return;\n",
              "\n",
              "        const docLinkHtml = 'Like what you see? Visit the ' +\n",
              "          '<a target=\"_blank\" href=https://colab.research.google.com/notebooks/data_table.ipynb>data table notebook</a>'\n",
              "          + ' to learn more about interactive tables.';\n",
              "        element.innerHTML = '';\n",
              "        dataTable['output_type'] = 'display_data';\n",
              "        await google.colab.output.renderOutput(dataTable, element);\n",
              "        const docLink = document.createElement('div');\n",
              "        docLink.innerHTML = docLinkHtml;\n",
              "        element.appendChild(docLink);\n",
              "      }\n",
              "    </script>\n",
              "  </div>\n",
              "\n",
              "\n",
              "<div id=\"df-1f6bdfd9-8588-4578-9c3c-dc4b41ac5ce0\">\n",
              "  <button class=\"colab-df-quickchart\" onclick=\"quickchart('df-1f6bdfd9-8588-4578-9c3c-dc4b41ac5ce0')\"\n",
              "            title=\"Suggest charts\"\n",
              "            style=\"display:none;\">\n",
              "\n",
              "<svg xmlns=\"http://www.w3.org/2000/svg\" height=\"24px\"viewBox=\"0 0 24 24\"\n",
              "     width=\"24px\">\n",
              "    <g>\n",
              "        <path d=\"M19 3H5c-1.1 0-2 .9-2 2v14c0 1.1.9 2 2 2h14c1.1 0 2-.9 2-2V5c0-1.1-.9-2-2-2zM9 17H7v-7h2v7zm4 0h-2V7h2v10zm4 0h-2v-4h2v4z\"/>\n",
              "    </g>\n",
              "</svg>\n",
              "  </button>\n",
              "\n",
              "<style>\n",
              "  .colab-df-quickchart {\n",
              "      --bg-color: #E8F0FE;\n",
              "      --fill-color: #1967D2;\n",
              "      --hover-bg-color: #E2EBFA;\n",
              "      --hover-fill-color: #174EA6;\n",
              "      --disabled-fill-color: #AAA;\n",
              "      --disabled-bg-color: #DDD;\n",
              "  }\n",
              "\n",
              "  [theme=dark] .colab-df-quickchart {\n",
              "      --bg-color: #3B4455;\n",
              "      --fill-color: #D2E3FC;\n",
              "      --hover-bg-color: #434B5C;\n",
              "      --hover-fill-color: #FFFFFF;\n",
              "      --disabled-bg-color: #3B4455;\n",
              "      --disabled-fill-color: #666;\n",
              "  }\n",
              "\n",
              "  .colab-df-quickchart {\n",
              "    background-color: var(--bg-color);\n",
              "    border: none;\n",
              "    border-radius: 50%;\n",
              "    cursor: pointer;\n",
              "    display: none;\n",
              "    fill: var(--fill-color);\n",
              "    height: 32px;\n",
              "    padding: 0;\n",
              "    width: 32px;\n",
              "  }\n",
              "\n",
              "  .colab-df-quickchart:hover {\n",
              "    background-color: var(--hover-bg-color);\n",
              "    box-shadow: 0 1px 2px rgba(60, 64, 67, 0.3), 0 1px 3px 1px rgba(60, 64, 67, 0.15);\n",
              "    fill: var(--button-hover-fill-color);\n",
              "  }\n",
              "\n",
              "  .colab-df-quickchart-complete:disabled,\n",
              "  .colab-df-quickchart-complete:disabled:hover {\n",
              "    background-color: var(--disabled-bg-color);\n",
              "    fill: var(--disabled-fill-color);\n",
              "    box-shadow: none;\n",
              "  }\n",
              "\n",
              "  .colab-df-spinner {\n",
              "    border: 2px solid var(--fill-color);\n",
              "    border-color: transparent;\n",
              "    border-bottom-color: var(--fill-color);\n",
              "    animation:\n",
              "      spin 1s steps(1) infinite;\n",
              "  }\n",
              "\n",
              "  @keyframes spin {\n",
              "    0% {\n",
              "      border-color: transparent;\n",
              "      border-bottom-color: var(--fill-color);\n",
              "      border-left-color: var(--fill-color);\n",
              "    }\n",
              "    20% {\n",
              "      border-color: transparent;\n",
              "      border-left-color: var(--fill-color);\n",
              "      border-top-color: var(--fill-color);\n",
              "    }\n",
              "    30% {\n",
              "      border-color: transparent;\n",
              "      border-left-color: var(--fill-color);\n",
              "      border-top-color: var(--fill-color);\n",
              "      border-right-color: var(--fill-color);\n",
              "    }\n",
              "    40% {\n",
              "      border-color: transparent;\n",
              "      border-right-color: var(--fill-color);\n",
              "      border-top-color: var(--fill-color);\n",
              "    }\n",
              "    60% {\n",
              "      border-color: transparent;\n",
              "      border-right-color: var(--fill-color);\n",
              "    }\n",
              "    80% {\n",
              "      border-color: transparent;\n",
              "      border-right-color: var(--fill-color);\n",
              "      border-bottom-color: var(--fill-color);\n",
              "    }\n",
              "    90% {\n",
              "      border-color: transparent;\n",
              "      border-bottom-color: var(--fill-color);\n",
              "    }\n",
              "  }\n",
              "</style>\n",
              "\n",
              "  <script>\n",
              "    async function quickchart(key) {\n",
              "      const quickchartButtonEl =\n",
              "        document.querySelector('#' + key + ' button');\n",
              "      quickchartButtonEl.disabled = true;  // To prevent multiple clicks.\n",
              "      quickchartButtonEl.classList.add('colab-df-spinner');\n",
              "      try {\n",
              "        const charts = await google.colab.kernel.invokeFunction(\n",
              "            'suggestCharts', [key], {});\n",
              "      } catch (error) {\n",
              "        console.error('Error during call to suggestCharts:', error);\n",
              "      }\n",
              "      quickchartButtonEl.classList.remove('colab-df-spinner');\n",
              "      quickchartButtonEl.classList.add('colab-df-quickchart-complete');\n",
              "    }\n",
              "    (() => {\n",
              "      let quickchartButtonEl =\n",
              "        document.querySelector('#df-1f6bdfd9-8588-4578-9c3c-dc4b41ac5ce0 button');\n",
              "      quickchartButtonEl.style.display =\n",
              "        google.colab.kernel.accessAllowed ? 'block' : 'none';\n",
              "    })();\n",
              "  </script>\n",
              "</div>\n",
              "\n",
              "    </div>\n",
              "  </div>\n"
            ],
            "application/vnd.google.colaboratory.intrinsic+json": {
              "type": "dataframe",
              "variable_name": "df"
            }
          },
          "metadata": {},
          "execution_count": 42
        }
      ]
    },
    {
      "cell_type": "markdown",
      "source": [
        "### 데이터 분할"
      ],
      "metadata": {
        "id": "tTm4lZO-0lCW"
      }
    },
    {
      "cell_type": "code",
      "source": [
        "# 데이터 분할\n",
        "x = df.drop([\"Class\"], axis= 1)\n",
        "y = df[\"Class\"]\n",
        "from sklearn.model_selection import train_test_split\n",
        "(x_train, x_test, y_train, y_test) = train_test_split(x, y, test_size= 0.2, random_state= 42)\n",
        "print(\"Shape of train_X: \", x_train.shape)\n",
        "print(\"Shape of test_X: \", x_test.shape)"
      ],
      "metadata": {
        "colab": {
          "base_uri": "https://localhost:8080/"
        },
        "id": "J0uUu0_XJdg8",
        "outputId": "c4bb6679-fa27-4fdd-e6f1-0266a6b944f5"
      },
      "execution_count": null,
      "outputs": [
        {
          "output_type": "stream",
          "name": "stdout",
          "text": [
            "Shape of train_X:  (227845, 30)\n",
            "Shape of test_X:  (56962, 30)\n"
          ]
        }
      ]
    },
    {
      "cell_type": "markdown",
      "source": [
        "### Resampling"
      ],
      "metadata": {
        "id": "s_-ys9iKKqHR"
      }
    },
    {
      "cell_type": "markdown",
      "source": [
        "- Undersampling\n",
        "- Oversampling\n",
        "- SMOTE\n",
        "\n",
        "클래스 불균형 해결을 위해 Oversampling 기법 중 하나인 SMOTE 방식을 사용한다.(아래 설명)\n",
        "![image.png](data:image/png;base64,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)\n",
        "\n",
        "https://mkjjo.github.io/python/2019/01/04/smote_duplicate.html"
      ],
      "metadata": {
        "id": "nARP2-dlKtvj"
      }
    },
    {
      "cell_type": "code",
      "source": [
        "# 데이터 불균형 해결: SMOTE\n",
        "from imblearn.over_sampling import SMOTE\n",
        "print(\"Before OverSampling, counts of label '1': {}\".format(sum(y_train==1)))\n",
        "print(\"Before OverSampling, counts of label '0': {} \\n\".format(sum(y_train==0)))\n",
        "\n",
        "sm = SMOTE(random_state=2)\n",
        "x_train_s, y_train_s = sm.fit_resample(x_train, y_train)\n",
        "\n",
        "print('After OverSampling, the shape of train_x: {}'.format(x_train_s.shape))\n",
        "print('After OverSampling, the shape of train_y: {} \\n'.format(y_train_s.shape))\n",
        "\n",
        "print(\"After OverSampling, counts of label '1', %: {}\".format(sum(y_train_s==1)/len(y_train_s)*100.0,2))\n",
        "print(\"After OverSampling, counts of label '0', %: {}\".format(sum(y_train_s==0)/len(y_train_s)*100.0,2))"
      ],
      "metadata": {
        "colab": {
          "base_uri": "https://localhost:8080/"
        },
        "id": "Svk2kTIkJOD4",
        "outputId": "b9197ee7-1849-47e9-d4aa-17ef7245fe40"
      },
      "execution_count": null,
      "outputs": [
        {
          "output_type": "stream",
          "name": "stdout",
          "text": [
            "Before OverSampling, counts of label '1': 394\n",
            "Before OverSampling, counts of label '0': 227451 \n",
            "\n",
            "After OverSampling, the shape of train_x: (454902, 30)\n",
            "After OverSampling, the shape of train_y: (454902,) \n",
            "\n",
            "After OverSampling, counts of label '1', %: 50.0\n",
            "After OverSampling, counts of label '0', %: 50.0\n"
          ]
        }
      ]
    },
    {
      "cell_type": "markdown",
      "source": [
        "Oversampling 하기 이전에는 사기거래가 394건이였는데 이후 454902건으로 정상거래와 거의 동일한 비율로 맞춰진 것을 알 수 있다."
      ],
      "metadata": {
        "id": "_te8ChDh1Ohi"
      }
    },
    {
      "cell_type": "code",
      "source": [
        "# 모델 평가지표 함수\n",
        "from sklearn.metrics import confusion_matrix, precision_score, recall_score, f1_score, precision_recall_curve, accuracy_score\n",
        "\n",
        "def metrics(acutals, predictions):\n",
        "  print('Accuracy: {:.5f}'.format(accuracy_score(actuals, predictions)))\n",
        "  print('Precision: {:.5f}'.format(precision_score(actuals, predictions)))\n",
        "  print('Recall: {:.5f}'.format(recall_score(actuals, predictions)))\n",
        "  print('F1-score: {.5f}'.format(f1_score(acutals, predictions)))\n"
      ],
      "metadata": {
        "id": "cVp6vY-mKf5Z"
      },
      "execution_count": null,
      "outputs": []
    },
    {
      "cell_type": "markdown",
      "source": [
        "# 3. 모델링"
      ],
      "metadata": {
        "id": "Oiy3Zx5nyC-U"
      }
    },
    {
      "cell_type": "markdown",
      "source": [
        "### Tensorflow 활용한 딥러닝"
      ],
      "metadata": {
        "id": "HuMlzLf1rqiG"
      }
    },
    {
      "cell_type": "code",
      "source": [
        "n_inputs = x_train_s.shape[1]"
      ],
      "metadata": {
        "id": "1bm_TQzDHWDa"
      },
      "execution_count": null,
      "outputs": []
    },
    {
      "cell_type": "code",
      "source": [
        "# Before oversampling 모델링\n",
        "import keras\n",
        "from keras.models import Sequential\n",
        "from keras.layers import Dense, Dropout\n",
        "\n",
        "# 모델 생성\n",
        "model = Sequential([\n",
        "    Dense(64, input_shape=(n_inputs, ), activation='relu'),\n",
        "    Dropout(0.5),\n",
        "    Dense(32, activation='relu'),\n",
        "    Dropout(0.5),\n",
        "    Dense(1, activation='sigmoid')])\n",
        "\n",
        "# 모델 컴파일: 손실함수, optimizer, 평가지표 지정\n",
        "model.compile(optimizer='Adam', loss='binary_crossentropy', metrics= ['Precision', 'Recall'])\n",
        "\n",
        "# 모델 학습\n",
        "model.fit(x_train, y_train, validation_split=0.2, batch_size=300, epochs=25, shuffle=True, verbose=2)"
      ],
      "metadata": {
        "id": "e3fv1_10KO69",
        "colab": {
          "base_uri": "https://localhost:8080/"
        },
        "outputId": "401e3a6b-7b61-4b2f-b96f-6e1c7b190a26"
      },
      "execution_count": null,
      "outputs": [
        {
          "output_type": "stream",
          "name": "stdout",
          "text": [
            "Epoch 1/25\n",
            "608/608 - 5s - loss: 0.0340 - precision: 0.0664 - recall: 0.1359 - val_loss: 0.0041 - val_precision: 0.8310 - val_recall: 0.6941 - 5s/epoch - 8ms/step\n",
            "Epoch 2/25\n",
            "608/608 - 2s - loss: 0.0066 - precision: 0.8452 - recall: 0.4595 - val_loss: 0.0035 - val_precision: 0.8434 - val_recall: 0.8235 - 2s/epoch - 3ms/step\n",
            "Epoch 3/25\n",
            "608/608 - 2s - loss: 0.0053 - precision: 0.8333 - recall: 0.6149 - val_loss: 0.0035 - val_precision: 0.8452 - val_recall: 0.8353 - 2s/epoch - 3ms/step\n",
            "Epoch 4/25\n",
            "608/608 - 2s - loss: 0.0050 - precision: 0.8489 - recall: 0.6181 - val_loss: 0.0033 - val_precision: 0.8353 - val_recall: 0.8353 - 2s/epoch - 3ms/step\n",
            "Epoch 5/25\n",
            "608/608 - 2s - loss: 0.0040 - precision: 0.8672 - recall: 0.6764 - val_loss: 0.0033 - val_precision: 0.8353 - val_recall: 0.8353 - 2s/epoch - 3ms/step\n",
            "Epoch 6/25\n",
            "608/608 - 3s - loss: 0.0041 - precision: 0.8462 - recall: 0.6764 - val_loss: 0.0034 - val_precision: 0.8353 - val_recall: 0.8353 - 3s/epoch - 5ms/step\n",
            "Epoch 7/25\n",
            "608/608 - 3s - loss: 0.0040 - precision: 0.8533 - recall: 0.7152 - val_loss: 0.0033 - val_precision: 0.8434 - val_recall: 0.8235 - 3s/epoch - 4ms/step\n",
            "Epoch 8/25\n",
            "608/608 - 2s - loss: 0.0038 - precision: 0.8571 - recall: 0.6796 - val_loss: 0.0032 - val_precision: 0.8353 - val_recall: 0.8353 - 2s/epoch - 3ms/step\n",
            "Epoch 9/25\n",
            "608/608 - 2s - loss: 0.0039 - precision: 0.8352 - recall: 0.7217 - val_loss: 0.0032 - val_precision: 0.8537 - val_recall: 0.8235 - 2s/epoch - 3ms/step\n",
            "Epoch 10/25\n",
            "608/608 - 2s - loss: 0.0038 - precision: 0.8740 - recall: 0.7184 - val_loss: 0.0033 - val_precision: 0.8434 - val_recall: 0.8235 - 2s/epoch - 3ms/step\n",
            "Epoch 11/25\n",
            "608/608 - 2s - loss: 0.0035 - precision: 0.8468 - recall: 0.6796 - val_loss: 0.0034 - val_precision: 0.8415 - val_recall: 0.8118 - 2s/epoch - 3ms/step\n",
            "Epoch 12/25\n",
            "608/608 - 2s - loss: 0.0037 - precision: 0.8500 - recall: 0.7152 - val_loss: 0.0033 - val_precision: 0.8434 - val_recall: 0.8235 - 2s/epoch - 4ms/step\n",
            "Epoch 13/25\n",
            "608/608 - 3s - loss: 0.0034 - precision: 0.8638 - recall: 0.7184 - val_loss: 0.0032 - val_precision: 0.8353 - val_recall: 0.8353 - 3s/epoch - 5ms/step\n",
            "Epoch 14/25\n",
            "608/608 - 2s - loss: 0.0036 - precision: 0.8629 - recall: 0.6926 - val_loss: 0.0031 - val_precision: 0.8353 - val_recall: 0.8353 - 2s/epoch - 3ms/step\n",
            "Epoch 15/25\n",
            "608/608 - 2s - loss: 0.0033 - precision: 0.8571 - recall: 0.7379 - val_loss: 0.0032 - val_precision: 0.8519 - val_recall: 0.8118 - 2s/epoch - 3ms/step\n",
            "Epoch 16/25\n",
            "608/608 - 2s - loss: 0.0032 - precision: 0.8669 - recall: 0.7379 - val_loss: 0.0033 - val_precision: 0.8434 - val_recall: 0.8235 - 2s/epoch - 3ms/step\n",
            "Epoch 17/25\n",
            "608/608 - 2s - loss: 0.0031 - precision: 0.8556 - recall: 0.7476 - val_loss: 0.0032 - val_precision: 0.8353 - val_recall: 0.8353 - 2s/epoch - 3ms/step\n",
            "Epoch 18/25\n",
            "608/608 - 2s - loss: 0.0033 - precision: 0.8439 - recall: 0.7346 - val_loss: 0.0032 - val_precision: 0.8434 - val_recall: 0.8235 - 2s/epoch - 4ms/step\n",
            "Epoch 19/25\n",
            "608/608 - 3s - loss: 0.0030 - precision: 0.8647 - recall: 0.7443 - val_loss: 0.0031 - val_precision: 0.8434 - val_recall: 0.8235 - 3s/epoch - 5ms/step\n",
            "Epoch 20/25\n",
            "608/608 - 2s - loss: 0.0032 - precision: 0.8682 - recall: 0.7249 - val_loss: 0.0031 - val_precision: 0.8452 - val_recall: 0.8353 - 2s/epoch - 3ms/step\n",
            "Epoch 21/25\n",
            "608/608 - 3s - loss: 0.0031 - precision: 0.8783 - recall: 0.7476 - val_loss: 0.0032 - val_precision: 0.8537 - val_recall: 0.8235 - 3s/epoch - 5ms/step\n",
            "Epoch 22/25\n",
            "608/608 - 2s - loss: 0.0029 - precision: 0.8740 - recall: 0.7411 - val_loss: 0.0032 - val_precision: 0.8434 - val_recall: 0.8235 - 2s/epoch - 3ms/step\n",
            "Epoch 23/25\n",
            "608/608 - 2s - loss: 0.0029 - precision: 0.8712 - recall: 0.7443 - val_loss: 0.0032 - val_precision: 0.8434 - val_recall: 0.8235 - 2s/epoch - 3ms/step\n",
            "Epoch 24/25\n",
            "608/608 - 3s - loss: 0.0029 - precision: 0.8712 - recall: 0.7443 - val_loss: 0.0031 - val_precision: 0.8452 - val_recall: 0.8353 - 3s/epoch - 5ms/step\n",
            "Epoch 25/25\n",
            "608/608 - 2s - loss: 0.0028 - precision: 0.8676 - recall: 0.7638 - val_loss: 0.0033 - val_precision: 0.8434 - val_recall: 0.8235 - 2s/epoch - 4ms/step\n"
          ]
        },
        {
          "output_type": "execute_result",
          "data": {
            "text/plain": [
              "<keras.src.callbacks.History at 0x7ea7df271690>"
            ]
          },
          "metadata": {},
          "execution_count": 47
        }
      ]
    },
    {
      "cell_type": "code",
      "source": [
        "# 모델 평가\n",
        "score = model.evaluate(x_test, y_test, verbose=1)\n",
        "print('Loss: {:.5f}'.format(score[0]))\n",
        "print('Precision: {:.5f}'.format(score[1]))\n",
        "print('Recall: {:.5f}'.format(score[2]))"
      ],
      "metadata": {
        "colab": {
          "base_uri": "https://localhost:8080/"
        },
        "id": "xqpxu-aaA_mL",
        "outputId": "044e8c51-fd25-405b-a11d-6fd3f88426b8"
      },
      "execution_count": null,
      "outputs": [
        {
          "output_type": "stream",
          "name": "stdout",
          "text": [
            "1781/1781 [==============================] - 4s 2ms/step - loss: 0.0032 - precision: 0.8506 - recall: 0.7551\n",
            "Loss: 0.00315\n",
            "Precision: 0.85057\n",
            "Recall: 0.75510\n"
          ]
        }
      ]
    },
    {
      "cell_type": "code",
      "source": [
        "# After oversampling 모델링\n",
        "import keras\n",
        "from keras.models import Sequential\n",
        "from keras.layers import Dense, Dropout\n",
        "\n",
        "# 모델 생성\n",
        "model2 = Sequential([\n",
        "    Dense(64, input_shape=(n_inputs, ), activation='relu'),\n",
        "    Dropout(0.5),\n",
        "    Dense(32, activation='relu'),\n",
        "    Dropout(0.5),\n",
        "    Dense(1, activation='sigmoid')])\n",
        "\n",
        "# 모델 컴파일: 손실함수, optimizer, 평가지표 지정\n",
        "model2.compile(optimizer='Adam', loss='binary_crossentropy', metrics= ['Precision', 'Recall'])\n",
        "\n",
        "# 모델 학습\n",
        "model2.fit(x_train_s, y_train_s, validation_split=0.2, batch_size=300, epochs=25, shuffle=True, verbose=2)"
      ],
      "metadata": {
        "colab": {
          "base_uri": "https://localhost:8080/"
        },
        "id": "4R-cnhwcJ9dz",
        "outputId": "9ad40f73-10fb-4909-8d80-c836723fdf6e"
      },
      "execution_count": null,
      "outputs": [
        {
          "output_type": "stream",
          "name": "stdout",
          "text": [
            "Epoch 1/25\n",
            "1214/1214 - 6s - loss: 0.1352 - precision: 0.9485 - recall: 0.9167 - val_loss: 0.0705 - val_precision: 1.0000 - val_recall: 0.9730 - 6s/epoch - 5ms/step\n",
            "Epoch 2/25\n",
            "1214/1214 - 4s - loss: 0.0470 - precision: 0.9772 - recall: 0.9801 - val_loss: 0.0245 - val_precision: 1.0000 - val_recall: 0.9945 - 4s/epoch - 3ms/step\n",
            "Epoch 3/25\n",
            "1214/1214 - 7s - loss: 0.0266 - precision: 0.9845 - recall: 0.9943 - val_loss: 0.0110 - val_precision: 1.0000 - val_recall: 0.9998 - 7s/epoch - 6ms/step\n",
            "Epoch 4/25\n",
            "1214/1214 - 7s - loss: 0.0180 - precision: 0.9893 - recall: 0.9976 - val_loss: 0.0082 - val_precision: 1.0000 - val_recall: 1.0000 - 7s/epoch - 6ms/step\n",
            "Epoch 5/25\n",
            "1214/1214 - 10s - loss: 0.0150 - precision: 0.9912 - recall: 0.9984 - val_loss: 0.0046 - val_precision: 1.0000 - val_recall: 1.0000 - 10s/epoch - 9ms/step\n",
            "Epoch 6/25\n",
            "1214/1214 - 8s - loss: 0.0124 - precision: 0.9930 - recall: 0.9988 - val_loss: 0.0040 - val_precision: 1.0000 - val_recall: 1.0000 - 8s/epoch - 7ms/step\n",
            "Epoch 7/25\n",
            "1214/1214 - 5s - loss: 0.0112 - precision: 0.9939 - recall: 0.9991 - val_loss: 0.0034 - val_precision: 1.0000 - val_recall: 1.0000 - 5s/epoch - 5ms/step\n",
            "Epoch 8/25\n",
            "1214/1214 - 4s - loss: 0.0100 - precision: 0.9947 - recall: 0.9991 - val_loss: 0.0039 - val_precision: 1.0000 - val_recall: 0.9995 - 4s/epoch - 3ms/step\n",
            "Epoch 9/25\n",
            "1214/1214 - 5s - loss: 0.0101 - precision: 0.9946 - recall: 0.9991 - val_loss: 0.0027 - val_precision: 1.0000 - val_recall: 1.0000 - 5s/epoch - 4ms/step\n",
            "Epoch 10/25\n",
            "1214/1214 - 4s - loss: 0.0092 - precision: 0.9952 - recall: 0.9992 - val_loss: 0.0029 - val_precision: 1.0000 - val_recall: 0.9999 - 4s/epoch - 3ms/step\n",
            "Epoch 11/25\n",
            "1214/1214 - 4s - loss: 0.0090 - precision: 0.9953 - recall: 0.9992 - val_loss: 0.0033 - val_precision: 1.0000 - val_recall: 1.0000 - 4s/epoch - 3ms/step\n",
            "Epoch 12/25\n",
            "1214/1214 - 5s - loss: 0.0085 - precision: 0.9955 - recall: 0.9993 - val_loss: 0.0021 - val_precision: 1.0000 - val_recall: 1.0000 - 5s/epoch - 4ms/step\n",
            "Epoch 13/25\n",
            "1214/1214 - 4s - loss: 0.0086 - precision: 0.9956 - recall: 0.9992 - val_loss: 0.0025 - val_precision: 1.0000 - val_recall: 1.0000 - 4s/epoch - 3ms/step\n",
            "Epoch 14/25\n",
            "1214/1214 - 4s - loss: 0.0077 - precision: 0.9960 - recall: 0.9993 - val_loss: 0.0023 - val_precision: 1.0000 - val_recall: 1.0000 - 4s/epoch - 3ms/step\n",
            "Epoch 15/25\n",
            "1214/1214 - 4s - loss: 0.0077 - precision: 0.9961 - recall: 0.9994 - val_loss: 0.0028 - val_precision: 1.0000 - val_recall: 0.9999 - 4s/epoch - 4ms/step\n",
            "Epoch 16/25\n",
            "1214/1214 - 4s - loss: 0.0076 - precision: 0.9961 - recall: 0.9993 - val_loss: 0.0015 - val_precision: 1.0000 - val_recall: 1.0000 - 4s/epoch - 4ms/step\n",
            "Epoch 17/25\n",
            "1214/1214 - 4s - loss: 0.0075 - precision: 0.9964 - recall: 0.9994 - val_loss: 0.0021 - val_precision: 1.0000 - val_recall: 1.0000 - 4s/epoch - 3ms/step\n",
            "Epoch 18/25\n",
            "1214/1214 - 4s - loss: 0.0075 - precision: 0.9961 - recall: 0.9993 - val_loss: 0.0016 - val_precision: 1.0000 - val_recall: 1.0000 - 4s/epoch - 3ms/step\n",
            "Epoch 19/25\n",
            "1214/1214 - 5s - loss: 0.0073 - precision: 0.9963 - recall: 0.9994 - val_loss: 0.0017 - val_precision: 1.0000 - val_recall: 1.0000 - 5s/epoch - 4ms/step\n",
            "Epoch 20/25\n",
            "1214/1214 - 4s - loss: 0.0070 - precision: 0.9965 - recall: 0.9993 - val_loss: 0.0013 - val_precision: 1.0000 - val_recall: 1.0000 - 4s/epoch - 3ms/step\n",
            "Epoch 21/25\n",
            "1214/1214 - 4s - loss: 0.0067 - precision: 0.9966 - recall: 0.9993 - val_loss: 0.0011 - val_precision: 1.0000 - val_recall: 1.0000 - 4s/epoch - 3ms/step\n",
            "Epoch 22/25\n",
            "1214/1214 - 5s - loss: 0.0072 - precision: 0.9965 - recall: 0.9994 - val_loss: 0.0012 - val_precision: 1.0000 - val_recall: 1.0000 - 5s/epoch - 4ms/step\n",
            "Epoch 23/25\n",
            "1214/1214 - 4s - loss: 0.0070 - precision: 0.9965 - recall: 0.9993 - val_loss: 0.0013 - val_precision: 1.0000 - val_recall: 1.0000 - 4s/epoch - 3ms/step\n",
            "Epoch 24/25\n",
            "1214/1214 - 4s - loss: 0.0069 - precision: 0.9966 - recall: 0.9995 - val_loss: 0.0018 - val_precision: 1.0000 - val_recall: 1.0000 - 4s/epoch - 3ms/step\n",
            "Epoch 25/25\n",
            "1214/1214 - 5s - loss: 0.0071 - precision: 0.9965 - recall: 0.9993 - val_loss: 0.0017 - val_precision: 1.0000 - val_recall: 1.0000 - 5s/epoch - 4ms/step\n"
          ]
        },
        {
          "output_type": "execute_result",
          "data": {
            "text/plain": [
              "<keras.src.callbacks.History at 0x7ea85182a9e0>"
            ]
          },
          "metadata": {},
          "execution_count": 49
        }
      ]
    },
    {
      "cell_type": "code",
      "source": [
        "# 학습 진행별 성능 변화 시각화\n",
        "model2_loss = pd.DataFrame(model2.history.history)\n",
        "model2_loss.plot()"
      ],
      "metadata": {
        "colab": {
          "base_uri": "https://localhost:8080/",
          "height": 448
        },
        "id": "r4hvlcIYJ9av",
        "outputId": "76ff23d4-34c2-497d-bda6-814288519604"
      },
      "execution_count": null,
      "outputs": [
        {
          "output_type": "execute_result",
          "data": {
            "text/plain": [
              "<Axes: >"
            ]
          },
          "metadata": {},
          "execution_count": 52
        },
        {
          "output_type": "display_data",
          "data": {
            "text/plain": [
              "<Figure size 640x480 with 1 Axes>"
            ],
            "image/png": "[encoded data removed]"
          },
          "metadata": {}
        }
      ]
    },
    {
      "cell_type": "code",
      "source": [
        "# 모델 평가\n",
        "score2 = model2.evaluate(x_test, y_test, verbose = 1)\n",
        "print('Loss: {:.5f}'.format(score2[0]))\n",
        "print('Precision: {:.5f}'.format(score2[1]))\n",
        "print('Recall: {:.5f}'.format(score2[2]))"
      ],
      "metadata": {
        "colab": {
          "base_uri": "https://localhost:8080/"
        },
        "id": "1gjJWGzLJ9Xe",
        "outputId": "76ad12da-3470-4292-8d99-1aaa8a71903e"
      },
      "execution_count": null,
      "outputs": [
        {
          "output_type": "stream",
          "name": "stdout",
          "text": [
            "1781/1781 [==============================] - 5s 3ms/step - loss: 0.0217 - precision: 0.6748 - recall: 0.8469\n",
            "Loss: 0.02172\n",
            "Precision: 0.67480\n",
            "Recall: 0.84694\n"
          ]
        }
      ]
    },
    {
      "cell_type": "markdown",
      "source": [],
      "metadata": {
        "id": "xp_b-uk_LXp2"
      }
    },
    {
      "cell_type": "code",
      "source": [],
      "metadata": {
        "id": "dRpGVNIdJFoA"
      },
      "execution_count": null,
      "outputs": []
    },
    {
      "cell_type": "code",
      "source": [],
      "metadata": {
        "id": "j6ONiWWoJFlC"
      },
      "execution_count": null,
      "outputs": []
    },
    {
      "cell_type": "code",
      "source": [],
      "metadata": {
        "id": "1Xm9gjYVJFhZ"
      },
      "execution_count": null,
      "outputs": []
    },
    {
      "cell_type": "code",
      "source": [],
      "metadata": {
        "id": "5Y_9b2we8pDc"
      },
      "execution_count": null,
      "outputs": []
    },
    {
      "cell_type": "code",
      "source": [],
      "metadata": {
        "id": "XQ8O92GO84Zr"
      },
      "execution_count": null,
      "outputs": []
    },
    {
      "cell_type": "code",
      "source": [],
      "metadata": {
        "id": "H5yC3PrR84Ax"
      },
      "execution_count": null,
      "outputs": []
    },
    {
      "cell_type": "markdown",
      "source": [
        "#### 3-1. XGboost"
      ],
      "metadata": {
        "id": "cwReUPZ1espD"
      }
    },
    {
      "cell_type": "code",
      "source": [
        "from xgboost import XGBClassifier\n",
        "# 모델 생성\n",
        "xgb_clf = XGBClassifier()\n",
        "xgb_clf.fit(X_train, y_train, eval_metric = 'recall', 'f1-score')\n",
        "\n",
        "# 모델 예측\n",
        "y_train_pred = xgb_clf.predict(X_train)\n",
        "y_test_pred = xgb_clf.predict(X_test)\n",
        "\n",
        "# 모델 평가\n",
        "print_score(y_train, y_train_pred, train = True)\n",
        "print_score(y_test, y_test_pred, train = False)"
      ],
      "metadata": {
        "colab": {
          "base_uri": "https://localhost:8080/",
          "height": 257
        },
        "id": "QoFx3cYScxr2",
        "outputId": "5024f7ac-ec8f-4e72-a030-6f238615fe8c"
      },
      "execution_count": null,
      "outputs": [
        {
          "output_type": "stream",
          "name": "stderr",
          "text": [
            "/usr/local/lib/python3.10/dist-packages/xgboost/sklearn.py:889: UserWarning: `eval_metric` in `fit` method is deprecated for better compatibility with scikit-learn, use `eval_metric` in constructor or`set_params` instead.\n",
            "  warnings.warn(\n"
          ]
        },
        {
          "output_type": "error",
          "ename": "NameError",
          "evalue": "name 'print_score' is not defined",
          "traceback": [
            "\u001b[0;31m---------------------------------------------------------------------------\u001b[0m",
            "\u001b[0;31mNameError\u001b[0m                                 Traceback (most recent call last)",
            "\u001b[0;32m<ipython-input-16-f1a935a91dad>\u001b[0m in \u001b[0;36m<cell line: 11>\u001b[0;34m()\u001b[0m\n\u001b[1;32m      9\u001b[0m \u001b[0;34m\u001b[0m\u001b[0m\n\u001b[1;32m     10\u001b[0m \u001b[0;31m# 모델 평가\u001b[0m\u001b[0;34m\u001b[0m\u001b[0;34m\u001b[0m\u001b[0m\n\u001b[0;32m---> 11\u001b[0;31m \u001b[0mprint_score\u001b[0m\u001b[0;34m(\u001b[0m\u001b[0my_train\u001b[0m\u001b[0;34m,\u001b[0m \u001b[0my_train_pred\u001b[0m\u001b[0;34m,\u001b[0m \u001b[0mtrain\u001b[0m \u001b[0;34m=\u001b[0m \u001b[0;32mTrue\u001b[0m\u001b[0;34m)\u001b[0m\u001b[0;34m\u001b[0m\u001b[0;34m\u001b[0m\u001b[0m\n\u001b[0m\u001b[1;32m     12\u001b[0m \u001b[0mprint_score\u001b[0m\u001b[0;34m(\u001b[0m\u001b[0my_test\u001b[0m\u001b[0;34m,\u001b[0m \u001b[0my_test_pred\u001b[0m\u001b[0;34m,\u001b[0m \u001b[0mtrain\u001b[0m \u001b[0;34m=\u001b[0m \u001b[0;32mFalse\u001b[0m\u001b[0;34m)\u001b[0m\u001b[0;34m\u001b[0m\u001b[0;34m\u001b[0m\u001b[0m\n",
            "\u001b[0;31mNameError\u001b[0m: name 'print_score' is not defined"
          ]
        }
      ]
    },
    {
      "cell_type": "markdown",
      "source": [
        "train 데이터 정확도는 100%, test 데이터 정확도는 99.96% 나온 것을 볼 수 있다. Class 1의 정밀도, 재현율이 비교적 낮게 나온 것을 알 수 있다. **1의 정밀도가 낮다는건 이상거래로 예측한 거래 중에서 실제 이상거래가 아닌 경우가 많다는 것이고, 재현율이 낮다는 것은 실제 이상거래 중에서 모델이 예측한 이상거래 비율이 낮다는 것이다.**"
      ],
      "metadata": {
        "id": "JPpSIrQEgvyQ"
      }
    },
    {
      "cell_type": "markdown",
      "source": [
        "재현율 (Recall): 이 값은 실제로 이상거래인 케이스 중에서 모델이 식별한 이상거래의 비율을 나타냅니다. 재현율이 낮다는 것은 모델이 이상거래를 덜 찾아낸다는 것을 의미합니다. 즉, 이상거래 중 많은 부분을 놓치고 있다는 것을 나타냅니다. 이는 거래 중에서 사기 거래를 식별하는 것이 중요한 경우에는 심각한 문제가 될 수 있습니다.\n",
        "정밀도 (Precision): 이 값은 모델이 이상거래로 예측한 거래 중에서 실제로 이상거래인 거래의 비율을 나타냅니다. 정밀도가 낮다는 것은 모델이 이상거래로 잘못 분류하는 경우가 많다는 것을 의미합니다. 즉, 모델이 이상거래로 판단한 거래 중에서 실제로는 이상거래가 아닌 경우가 많다는 것을 나타냅니다."
      ],
      "metadata": {
        "id": "yk-mJPBYhQRP"
      }
    },
    {
      "cell_type": "code",
      "source": [],
      "metadata": {
        "id": "Rf_kbL15ezRS"
      },
      "execution_count": null,
      "outputs": []
    },
    {
      "cell_type": "markdown",
      "source": [
        "\n",
        "\n",
        "---"
      ],
      "metadata": {
        "id": "T-8AoFnsHgKX"
      }
    },
    {
      "cell_type": "markdown",
      "source": [
        "\n",
        "\n",
        "*   에폭: 1에폭은 학습에서 인공신경망에서 전체 데이터셋에 대해 forward/backward 과정을 거친 것을 말함.(전체 데이터셋에 대해 한번 학습을 완료한 상태)\n",
        "  * backpropagation algorithm은 입력부터 출력까지의 각 계층 weight 계산을 해주는 순방향 패스, 거슬러 올라가며 다시 계산해서 기존 weight를 수정하는 역방향 패스로 나뉜다. 1에폭은 순방향+역방향 한번을 포함한 의미이다.\n",
        "\n",
        "  - epoch이 너무 크면 overfitting, 너무 작으면 underfitting이 발생할 수 있어 적절하게 설정 해야한다.\n",
        "\n",
        "* 배치사이즈: 한번의 배치마다 주는 데이터 샘플의 사이즈.\n",
        "* Iteration: 에폭을 나누어서 실행하는 횟수.\n",
        "  - 예를들어 1000개의 데이터셋을, 한턴에 1000개씩 10번, 5턴 학습시킨다고 할 때,\n",
        "  batch_size = 1000, iteration = 10, epoch = 5가 된다.\n",
        "\n",
        "  https://jonhyuk0922.tistory.com/129\n",
        "\n",
        "\n"
      ],
      "metadata": {
        "id": "wi-fH8x7CEnB"
      }
    },
    {
      "cell_type": "code",
      "source": [
        "#"
      ],
      "metadata": {
        "id": "j-NX5_c5IyIw"
      },
      "execution_count": null,
      "outputs": []
    },
    {
      "cell_type": "code",
      "source": [],
      "metadata": {
        "id": "DBjgonfYIyE2"
      },
      "execution_count": null,
      "outputs": []
    },
    {
      "cell_type": "code",
      "source": [],
      "metadata": {
        "id": "A0z8svhWIyBH"
      },
      "execution_count": null,
      "outputs": []
    },
    {
      "cell_type": "code",
      "source": [
        "# 모델 평가\n",
        "score = model.evaluate(X_test, y_test)\n",
        "print(score)"
      ],
      "metadata": {
        "colab": {
          "base_uri": "https://localhost:8080/"
        },
        "id": "dVE-n5bn-QBF",
        "outputId": "7d1a9adf-4ea2-4d83-9464-e1f4a064ae6c"
      },
      "execution_count": null,
      "outputs": [
        {
          "output_type": "stream",
          "name": "stdout",
          "text": [
            "1781/1781 [==============================] - 5s 2ms/step - loss: 0.0472 - fn: 97.0000 - fp: 29.0000 - tn: 56835.0000 - tp: 1.0000 - precision: 0.0333 - recall: 0.0102\n",
            "[0.04721889644861221, 97.0, 29.0, 56835.0, 1.0, 0.03333333507180214, 0.010204081423580647]\n"
          ]
        }
      ]
    },
    {
      "cell_type": "markdown",
      "source": [
        "Try 2)"
      ],
      "metadata": {
        "id": "WyGmEDtmK7hx"
      }
    },
    {
      "cell_type": "code",
      "source": [
        "from tensorflow import keras\n",
        "\n",
        "model = keras.Sequential([\n",
        "    keras.layers.Dense(512, activation='relu', input_shape=(X_train.shape[-1],)),  # 더 많은 뉴런 추가\n",
        "    keras.layers.BatchNormalization(),\n",
        "    keras.layers.Dropout(0.5),  # 드롭아웃 비율 증가\n",
        "    keras.layers.Dense(512, activation='relu'),  # 더 많은 뉴런 추가\n",
        "    keras.layers.BatchNormalization(),\n",
        "    keras.layers.Dropout(0.5),  # 드롭아웃 비율 증가\n",
        "    keras.layers.Dense(512, activation='relu'),  # 더 많은 뉴런 추가\n",
        "    keras.layers.BatchNormalization(),\n",
        "    keras.layers.Dropout(0.5),  # 드롭아웃 비율 증가\n",
        "    keras.layers.Dense(1, activation='sigmoid'),\n",
        "])\n",
        "\n",
        "model.summary()\n",
        "\n",
        "# 모델 컴파일 : 손실함수, optimizer, 평가지표 지정\n",
        "METRICS = [\n",
        "    keras.metrics.FalseNegatives(name='fn'),\n",
        "    keras.metrics.FalsePositives(name='fp'),\n",
        "    keras.metrics.TrueNegatives(name='tn'),\n",
        "    keras.metrics.TruePositives(name='tp'),\n",
        "    keras.metrics.Precision(name='precision'),\n",
        "    keras.metrics.Recall(name='recall')\n",
        "]\n",
        "\n",
        "model.compile(optimizer=keras.optimizers.Adam(1e-4), loss='binary_crossentropy', metrics=METRICS)\n",
        "\n",
        "# 모델 훈련\n",
        "history = model.fit(X_train, y_train, batch_size=128, epochs=100)  # 배치 크기 증가, 에폭 수 증가\n"
      ],
      "metadata": {
        "colab": {
          "base_uri": "https://localhost:8080/"
        },
        "id": "peEbN_QY-P-d",
        "outputId": "e72ebce6-19ad-4601-eacf-fc07d9ce1d32"
      },
      "execution_count": null,
      "outputs": [
        {
          "output_type": "stream",
          "name": "stdout",
          "text": [
            "Model: \"sequential_3\"\n",
            "_________________________________________________________________\n",
            " Layer (type)                Output Shape              Param #   \n",
            "=================================================================\n",
            " dense_12 (Dense)            (None, 512)               16896     \n",
            "                                                                 \n",
            " batch_normalization_9 (Bat  (None, 512)               2048      \n",
            " chNormalization)                                                \n",
            "                                                                 \n",
            " dropout_9 (Dropout)         (None, 512)               0         \n",
            "                                                                 \n",
            " dense_13 (Dense)            (None, 512)               262656    \n",
            "                                                                 \n",
            " batch_normalization_10 (Ba  (None, 512)               2048      \n",
            " tchNormalization)                                               \n",
            "                                                                 \n",
            " dropout_10 (Dropout)        (None, 512)               0         \n",
            "                                                                 \n",
            " dense_14 (Dense)            (None, 512)               262656    \n",
            "                                                                 \n",
            " batch_normalization_11 (Ba  (None, 512)               2048      \n",
            " tchNormalization)                                               \n",
            "                                                                 \n",
            " dropout_11 (Dropout)        (None, 512)               0         \n",
            "                                                                 \n",
            " dense_15 (Dense)            (None, 1)                 513       \n",
            "                                                                 \n",
            "=================================================================\n",
            "Total params: 548865 (2.09 MB)\n",
            "Trainable params: 545793 (2.08 MB)\n",
            "Non-trainable params: 3072 (12.00 KB)\n",
            "_________________________________________________________________\n",
            "Epoch 1/100\n",
            "1781/1781 [==============================] - 43s 22ms/step - loss: 0.3143 - fn: 343.0000 - fp: 27997.0000 - tn: 199454.0000 - tp: 51.0000 - precision: 0.0018 - recall: 0.1294\n",
            "Epoch 2/100\n",
            "1781/1781 [==============================] - 43s 24ms/step - loss: 0.0323 - fn: 391.0000 - fp: 430.0000 - tn: 227021.0000 - tp: 3.0000 - precision: 0.0069 - recall: 0.0076\n",
            "Epoch 3/100\n",
            "1781/1781 [==============================] - 38s 21ms/step - loss: 0.0177 - fn: 393.0000 - fp: 73.0000 - tn: 227378.0000 - tp: 1.0000 - precision: 0.0135 - recall: 0.0025\n",
            "Epoch 4/100\n",
            "1781/1781 [==============================] - 39s 22ms/step - loss: 0.0164 - fn: 394.0000 - fp: 37.0000 - tn: 227414.0000 - tp: 0.0000e+00 - precision: 0.0000e+00 - recall: 0.0000e+00\n",
            "Epoch 5/100\n",
            "1781/1781 [==============================] - 40s 23ms/step - loss: 0.0163 - fn: 394.0000 - fp: 25.0000 - tn: 227426.0000 - tp: 0.0000e+00 - precision: 0.0000e+00 - recall: 0.0000e+00\n",
            "Epoch 6/100\n",
            "1781/1781 [==============================] - 37s 21ms/step - loss: 0.0156 - fn: 394.0000 - fp: 20.0000 - tn: 227431.0000 - tp: 0.0000e+00 - precision: 0.0000e+00 - recall: 0.0000e+00\n",
            "Epoch 7/100\n",
            "1781/1781 [==============================] - 38s 22ms/step - loss: 0.0153 - fn: 394.0000 - fp: 14.0000 - tn: 227437.0000 - tp: 0.0000e+00 - precision: 0.0000e+00 - recall: 0.0000e+00\n",
            "Epoch 8/100\n",
            "1781/1781 [==============================] - 39s 22ms/step - loss: 0.0149 - fn: 393.0000 - fp: 12.0000 - tn: 227439.0000 - tp: 1.0000 - precision: 0.0769 - recall: 0.0025\n",
            "Epoch 9/100\n",
            "1781/1781 [==============================] - 38s 21ms/step - loss: 0.0148 - fn: 394.0000 - fp: 6.0000 - tn: 227445.0000 - tp: 0.0000e+00 - precision: 0.0000e+00 - recall: 0.0000e+00\n",
            "Epoch 10/100\n",
            "1781/1781 [==============================] - 38s 21ms/step - loss: 0.0145 - fn: 394.0000 - fp: 6.0000 - tn: 227445.0000 - tp: 0.0000e+00 - precision: 0.0000e+00 - recall: 0.0000e+00\n",
            "Epoch 11/100\n",
            "1781/1781 [==============================] - 40s 23ms/step - loss: 0.0144 - fn: 394.0000 - fp: 6.0000 - tn: 227445.0000 - tp: 0.0000e+00 - precision: 0.0000e+00 - recall: 0.0000e+00\n",
            "Epoch 12/100\n",
            "1781/1781 [==============================] - 38s 22ms/step - loss: 0.0143 - fn: 394.0000 - fp: 3.0000 - tn: 227448.0000 - tp: 0.0000e+00 - precision: 0.0000e+00 - recall: 0.0000e+00\n",
            "Epoch 13/100\n",
            "1781/1781 [==============================] - 38s 21ms/step - loss: 0.0141 - fn: 394.0000 - fp: 3.0000 - tn: 227448.0000 - tp: 0.0000e+00 - precision: 0.0000e+00 - recall: 0.0000e+00\n",
            "Epoch 14/100\n",
            "1781/1781 [==============================] - 39s 22ms/step - loss: 0.0139 - fn: 394.0000 - fp: 4.0000 - tn: 227447.0000 - tp: 0.0000e+00 - precision: 0.0000e+00 - recall: 0.0000e+00\n",
            "Epoch 15/100\n",
            "1781/1781 [==============================] - 39s 22ms/step - loss: 0.0141 - fn: 394.0000 - fp: 3.0000 - tn: 227448.0000 - tp: 0.0000e+00 - precision: 0.0000e+00 - recall: 0.0000e+00\n",
            "Epoch 16/100\n",
            "1781/1781 [==============================] - 37s 21ms/step - loss: 0.0139 - fn: 394.0000 - fp: 1.0000 - tn: 227450.0000 - tp: 0.0000e+00 - precision: 0.0000e+00 - recall: 0.0000e+00\n",
            "Epoch 17/100\n",
            "1781/1781 [==============================] - 41s 23ms/step - loss: 0.0138 - fn: 394.0000 - fp: 0.0000e+00 - tn: 227451.0000 - tp: 0.0000e+00 - precision: 0.0000e+00 - recall: 0.0000e+00\n",
            "Epoch 18/100\n",
            "1781/1781 [==============================] - 39s 22ms/step - loss: 0.0137 - fn: 394.0000 - fp: 1.0000 - tn: 227450.0000 - tp: 0.0000e+00 - precision: 0.0000e+00 - recall: 0.0000e+00\n",
            "Epoch 19/100\n",
            "1781/1781 [==============================] - 38s 22ms/step - loss: 0.0135 - fn: 394.0000 - fp: 2.0000 - tn: 227449.0000 - tp: 0.0000e+00 - precision: 0.0000e+00 - recall: 0.0000e+00\n",
            "Epoch 20/100\n",
            "1781/1781 [==============================] - 38s 21ms/step - loss: 0.0135 - fn: 394.0000 - fp: 1.0000 - tn: 227450.0000 - tp: 0.0000e+00 - precision: 0.0000e+00 - recall: 0.0000e+00\n",
            "Epoch 21/100\n",
            "1781/1781 [==============================] - 39s 22ms/step - loss: 0.0132 - fn: 394.0000 - fp: 1.0000 - tn: 227450.0000 - tp: 0.0000e+00 - precision: 0.0000e+00 - recall: 0.0000e+00\n",
            "Epoch 22/100\n",
            "1781/1781 [==============================] - 39s 22ms/step - loss: 0.0133 - fn: 394.0000 - fp: 0.0000e+00 - tn: 227451.0000 - tp: 0.0000e+00 - precision: 0.0000e+00 - recall: 0.0000e+00\n",
            "Epoch 23/100\n",
            "1781/1781 [==============================] - 40s 22ms/step - loss: 0.0129 - fn: 393.0000 - fp: 0.0000e+00 - tn: 227451.0000 - tp: 1.0000 - precision: 1.0000 - recall: 0.0025\n",
            "Epoch 24/100\n",
            "1781/1781 [==============================] - 38s 21ms/step - loss: 0.0126 - fn: 386.0000 - fp: 8.0000 - tn: 227443.0000 - tp: 8.0000 - precision: 0.5000 - recall: 0.0203\n",
            "Epoch 25/100\n",
            "1781/1781 [==============================] - 39s 22ms/step - loss: 0.0129 - fn: 388.0000 - fp: 3.0000 - tn: 227448.0000 - tp: 6.0000 - precision: 0.6667 - recall: 0.0152\n",
            "Epoch 26/100\n",
            "1781/1781 [==============================] - 39s 22ms/step - loss: 0.0127 - fn: 379.0000 - fp: 3.0000 - tn: 227448.0000 - tp: 15.0000 - precision: 0.8333 - recall: 0.0381\n",
            "Epoch 27/100\n",
            "1781/1781 [==============================] - 38s 21ms/step - loss: 0.0126 - fn: 383.0000 - fp: 7.0000 - tn: 227444.0000 - tp: 11.0000 - precision: 0.6111 - recall: 0.0279\n",
            "Epoch 28/100\n",
            "1781/1781 [==============================] - 39s 22ms/step - loss: 0.0129 - fn: 390.0000 - fp: 3.0000 - tn: 227448.0000 - tp: 4.0000 - precision: 0.5714 - recall: 0.0102\n",
            "Epoch 29/100\n",
            "1781/1781 [==============================] - 41s 23ms/step - loss: 0.0126 - fn: 387.0000 - fp: 2.0000 - tn: 227449.0000 - tp: 7.0000 - precision: 0.7778 - recall: 0.0178\n",
            "Epoch 30/100\n",
            "1781/1781 [==============================] - 38s 21ms/step - loss: 0.0126 - fn: 390.0000 - fp: 5.0000 - tn: 227446.0000 - tp: 4.0000 - precision: 0.4444 - recall: 0.0102\n",
            "Epoch 31/100\n",
            "1781/1781 [==============================] - 38s 21ms/step - loss: 0.0129 - fn: 391.0000 - fp: 2.0000 - tn: 227449.0000 - tp: 3.0000 - precision: 0.6000 - recall: 0.0076\n",
            "Epoch 32/100\n",
            "1781/1781 [==============================] - 39s 22ms/step - loss: 0.0129 - fn: 392.0000 - fp: 4.0000 - tn: 227447.0000 - tp: 2.0000 - precision: 0.3333 - recall: 0.0051\n",
            "Epoch 33/100\n",
            "1781/1781 [==============================] - 39s 22ms/step - loss: 0.0127 - fn: 382.0000 - fp: 8.0000 - tn: 227443.0000 - tp: 12.0000 - precision: 0.6000 - recall: 0.0305\n",
            "Epoch 34/100\n",
            "1781/1781 [==============================] - 37s 21ms/step - loss: 0.0129 - fn: 392.0000 - fp: 2.0000 - tn: 227449.0000 - tp: 2.0000 - precision: 0.5000 - recall: 0.0051\n",
            "Epoch 35/100\n",
            "1781/1781 [==============================] - 41s 23ms/step - loss: 0.0128 - fn: 391.0000 - fp: 4.0000 - tn: 227447.0000 - tp: 3.0000 - precision: 0.4286 - recall: 0.0076\n",
            "Epoch 36/100\n",
            "1781/1781 [==============================] - 39s 22ms/step - loss: 0.0126 - fn: 383.0000 - fp: 3.0000 - tn: 227448.0000 - tp: 11.0000 - precision: 0.7857 - recall: 0.0279\n",
            "Epoch 37/100\n",
            "1781/1781 [==============================] - 37s 21ms/step - loss: 0.0126 - fn: 385.0000 - fp: 6.0000 - tn: 227445.0000 - tp: 9.0000 - precision: 0.6000 - recall: 0.0228\n",
            "Epoch 38/100\n",
            "1781/1781 [==============================] - 39s 22ms/step - loss: 0.0126 - fn: 392.0000 - fp: 5.0000 - tn: 227446.0000 - tp: 2.0000 - precision: 0.2857 - recall: 0.0051\n",
            "Epoch 39/100\n",
            "1781/1781 [==============================] - 39s 22ms/step - loss: 0.0128 - fn: 391.0000 - fp: 3.0000 - tn: 227448.0000 - tp: 3.0000 - precision: 0.5000 - recall: 0.0076\n",
            "Epoch 40/100\n",
            "1781/1781 [==============================] - 38s 21ms/step - loss: 0.0127 - fn: 389.0000 - fp: 7.0000 - tn: 227444.0000 - tp: 5.0000 - precision: 0.4167 - recall: 0.0127\n",
            "Epoch 41/100\n",
            "1781/1781 [==============================] - 40s 23ms/step - loss: 0.0129 - fn: 394.0000 - fp: 0.0000e+00 - tn: 227451.0000 - tp: 0.0000e+00 - precision: 0.0000e+00 - recall: 0.0000e+00\n",
            "Epoch 42/100\n",
            "1781/1781 [==============================] - 39s 22ms/step - loss: 0.0126 - fn: 394.0000 - fp: 4.0000 - tn: 227447.0000 - tp: 0.0000e+00 - precision: 0.0000e+00 - recall: 0.0000e+00\n",
            "Epoch 43/100\n",
            "1781/1781 [==============================] - 39s 22ms/step - loss: 0.0125 - fn: 394.0000 - fp: 3.0000 - tn: 227448.0000 - tp: 0.0000e+00 - precision: 0.0000e+00 - recall: 0.0000e+00\n",
            "Epoch 44/100\n",
            "1781/1781 [==============================] - 38s 21ms/step - loss: 0.0127 - fn: 393.0000 - fp: 3.0000 - tn: 227448.0000 - tp: 1.0000 - precision: 0.2500 - recall: 0.0025\n",
            "Epoch 45/100\n",
            "1781/1781 [==============================] - 39s 22ms/step - loss: 0.0131 - fn: 394.0000 - fp: 0.0000e+00 - tn: 227451.0000 - tp: 0.0000e+00 - precision: 0.0000e+00 - recall: 0.0000e+00\n",
            "Epoch 46/100\n",
            "1781/1781 [==============================] - 39s 22ms/step - loss: 0.0125 - fn: 394.0000 - fp: 2.0000 - tn: 227449.0000 - tp: 0.0000e+00 - precision: 0.0000e+00 - recall: 0.0000e+00\n",
            "Epoch 47/100\n",
            "1781/1781 [==============================] - 41s 23ms/step - loss: 0.0125 - fn: 391.0000 - fp: 1.0000 - tn: 227450.0000 - tp: 3.0000 - precision: 0.7500 - recall: 0.0076\n",
            "Epoch 48/100\n",
            "1781/1781 [==============================] - 38s 21ms/step - loss: 0.0125 - fn: 394.0000 - fp: 0.0000e+00 - tn: 227451.0000 - tp: 0.0000e+00 - precision: 0.0000e+00 - recall: 0.0000e+00\n",
            "Epoch 49/100\n",
            "1781/1781 [==============================] - 39s 22ms/step - loss: 0.0131 - fn: 394.0000 - fp: 3.0000 - tn: 227448.0000 - tp: 0.0000e+00 - precision: 0.0000e+00 - recall: 0.0000e+00\n",
            "Epoch 50/100\n",
            "1781/1781 [==============================] - 39s 22ms/step - loss: 0.0125 - fn: 389.0000 - fp: 2.0000 - tn: 227449.0000 - tp: 5.0000 - precision: 0.7143 - recall: 0.0127\n",
            "Epoch 51/100\n",
            "1781/1781 [==============================] - 38s 21ms/step - loss: 0.0126 - fn: 393.0000 - fp: 0.0000e+00 - tn: 227451.0000 - tp: 1.0000 - precision: 1.0000 - recall: 0.0025\n",
            "Epoch 52/100\n",
            "1781/1781 [==============================] - 39s 22ms/step - loss: 0.0125 - fn: 391.0000 - fp: 0.0000e+00 - tn: 227451.0000 - tp: 3.0000 - precision: 1.0000 - recall: 0.0076\n",
            "Epoch 53/100\n",
            "1781/1781 [==============================] - 41s 23ms/step - loss: 0.0126 - fn: 390.0000 - fp: 4.0000 - tn: 227447.0000 - tp: 4.0000 - precision: 0.5000 - recall: 0.0102\n",
            "Epoch 54/100\n",
            "1781/1781 [==============================] - 39s 22ms/step - loss: 0.0128 - fn: 390.0000 - fp: 0.0000e+00 - tn: 227451.0000 - tp: 4.0000 - precision: 1.0000 - recall: 0.0102\n",
            "Epoch 55/100\n",
            "1781/1781 [==============================] - 38s 21ms/step - loss: 0.0130 - fn: 393.0000 - fp: 1.0000 - tn: 227450.0000 - tp: 1.0000 - precision: 0.5000 - recall: 0.0025\n",
            "Epoch 56/100\n",
            "1781/1781 [==============================] - 39s 22ms/step - loss: 0.0128 - fn: 391.0000 - fp: 3.0000 - tn: 227448.0000 - tp: 3.0000 - precision: 0.5000 - recall: 0.0076\n",
            "Epoch 57/100\n",
            "1781/1781 [==============================] - 39s 22ms/step - loss: 0.0126 - fn: 390.0000 - fp: 0.0000e+00 - tn: 227451.0000 - tp: 4.0000 - precision: 1.0000 - recall: 0.0102\n",
            "Epoch 58/100\n",
            "1781/1781 [==============================] - 38s 22ms/step - loss: 0.0128 - fn: 393.0000 - fp: 1.0000 - tn: 227450.0000 - tp: 1.0000 - precision: 0.5000 - recall: 0.0025\n",
            "Epoch 59/100\n",
            "1781/1781 [==============================] - 40s 22ms/step - loss: 0.0130 - fn: 393.0000 - fp: 2.0000 - tn: 227449.0000 - tp: 1.0000 - precision: 0.3333 - recall: 0.0025\n",
            "Epoch 60/100\n",
            "1781/1781 [==============================] - 39s 22ms/step - loss: 0.0123 - fn: 383.0000 - fp: 3.0000 - tn: 227448.0000 - tp: 11.0000 - precision: 0.7857 - recall: 0.0279\n",
            "Epoch 61/100\n",
            "1781/1781 [==============================] - 39s 22ms/step - loss: 0.0123 - fn: 384.0000 - fp: 11.0000 - tn: 227440.0000 - tp: 10.0000 - precision: 0.4762 - recall: 0.0254\n",
            "Epoch 62/100\n",
            "1781/1781 [==============================] - 38s 21ms/step - loss: 0.0119 - fn: 381.0000 - fp: 6.0000 - tn: 227445.0000 - tp: 13.0000 - precision: 0.6842 - recall: 0.0330\n",
            "Epoch 63/100\n",
            "1781/1781 [==============================] - 39s 22ms/step - loss: 0.0120 - fn: 392.0000 - fp: 6.0000 - tn: 227445.0000 - tp: 2.0000 - precision: 0.2500 - recall: 0.0051\n",
            "Epoch 64/100\n",
            "1781/1781 [==============================] - 39s 22ms/step - loss: 0.0122 - fn: 391.0000 - fp: 4.0000 - tn: 227447.0000 - tp: 3.0000 - precision: 0.4286 - recall: 0.0076\n",
            "Epoch 65/100\n",
            "1781/1781 [==============================] - 41s 23ms/step - loss: 0.0125 - fn: 390.0000 - fp: 1.0000 - tn: 227450.0000 - tp: 4.0000 - precision: 0.8000 - recall: 0.0102\n",
            "Epoch 66/100\n",
            "1781/1781 [==============================] - 38s 21ms/step - loss: 0.0127 - fn: 393.0000 - fp: 0.0000e+00 - tn: 227451.0000 - tp: 1.0000 - precision: 1.0000 - recall: 0.0025\n",
            "Epoch 67/100\n",
            "1781/1781 [==============================] - 39s 22ms/step - loss: 0.0124 - fn: 393.0000 - fp: 2.0000 - tn: 227449.0000 - tp: 1.0000 - precision: 0.3333 - recall: 0.0025\n",
            "Epoch 68/100\n",
            "1781/1781 [==============================] - 39s 22ms/step - loss: 0.0123 - fn: 393.0000 - fp: 1.0000 - tn: 227450.0000 - tp: 1.0000 - precision: 0.5000 - recall: 0.0025\n",
            "Epoch 69/100\n",
            "1781/1781 [==============================] - 38s 21ms/step - loss: 0.0125 - fn: 394.0000 - fp: 1.0000 - tn: 227450.0000 - tp: 0.0000e+00 - precision: 0.0000e+00 - recall: 0.0000e+00\n",
            "Epoch 70/100\n",
            "1781/1781 [==============================] - 39s 22ms/step - loss: 0.0126 - fn: 394.0000 - fp: 1.0000 - tn: 227450.0000 - tp: 0.0000e+00 - precision: 0.0000e+00 - recall: 0.0000e+00\n",
            "Epoch 71/100\n",
            "1781/1781 [==============================] - 41s 23ms/step - loss: 0.0123 - fn: 391.0000 - fp: 3.0000 - tn: 227448.0000 - tp: 3.0000 - precision: 0.5000 - recall: 0.0076\n",
            "Epoch 72/100\n",
            "1781/1781 [==============================] - 38s 21ms/step - loss: 0.0123 - fn: 390.0000 - fp: 8.0000 - tn: 227443.0000 - tp: 4.0000 - precision: 0.3333 - recall: 0.0102\n",
            "Epoch 73/100\n",
            "1781/1781 [==============================] - 39s 22ms/step - loss: 0.0127 - fn: 391.0000 - fp: 5.0000 - tn: 227446.0000 - tp: 3.0000 - precision: 0.3750 - recall: 0.0076\n",
            "Epoch 74/100\n",
            "1781/1781 [==============================] - 39s 22ms/step - loss: 0.0128 - fn: 393.0000 - fp: 2.0000 - tn: 227449.0000 - tp: 1.0000 - precision: 0.3333 - recall: 0.0025\n",
            "Epoch 75/100\n",
            "1781/1781 [==============================] - 39s 22ms/step - loss: 0.0127 - fn: 394.0000 - fp: 1.0000 - tn: 227450.0000 - tp: 0.0000e+00 - precision: 0.0000e+00 - recall: 0.0000e+00\n",
            "Epoch 76/100\n",
            "1781/1781 [==============================] - 38s 21ms/step - loss: 0.0127 - fn: 393.0000 - fp: 1.0000 - tn: 227450.0000 - tp: 1.0000 - precision: 0.5000 - recall: 0.0025\n",
            "Epoch 77/100\n",
            "1781/1781 [==============================] - 41s 23ms/step - loss: 0.0126 - fn: 394.0000 - fp: 2.0000 - tn: 227449.0000 - tp: 0.0000e+00 - precision: 0.0000e+00 - recall: 0.0000e+00\n",
            "Epoch 78/100\n",
            "1781/1781 [==============================] - 39s 22ms/step - loss: 0.0126 - fn: 394.0000 - fp: 2.0000 - tn: 227449.0000 - tp: 0.0000e+00 - precision: 0.0000e+00 - recall: 0.0000e+00\n",
            "Epoch 79/100\n",
            "1781/1781 [==============================] - 38s 21ms/step - loss: 0.0127 - fn: 394.0000 - fp: 1.0000 - tn: 227450.0000 - tp: 0.0000e+00 - precision: 0.0000e+00 - recall: 0.0000e+00\n",
            "Epoch 80/100\n",
            "1781/1781 [==============================] - 39s 22ms/step - loss: 0.0129 - fn: 394.0000 - fp: 0.0000e+00 - tn: 227451.0000 - tp: 0.0000e+00 - precision: 0.0000e+00 - recall: 0.0000e+00\n",
            "Epoch 81/100\n",
            "1781/1781 [==============================] - 39s 22ms/step - loss: 0.0128 - fn: 394.0000 - fp: 1.0000 - tn: 227450.0000 - tp: 0.0000e+00 - precision: 0.0000e+00 - recall: 0.0000e+00\n",
            "Epoch 82/100\n",
            "1781/1781 [==============================] - 39s 22ms/step - loss: 0.0126 - fn: 394.0000 - fp: 1.0000 - tn: 227450.0000 - tp: 0.0000e+00 - precision: 0.0000e+00 - recall: 0.0000e+00\n",
            "Epoch 83/100\n",
            "1781/1781 [==============================] - 40s 22ms/step - loss: 0.0126 - fn: 394.0000 - fp: 0.0000e+00 - tn: 227451.0000 - tp: 0.0000e+00 - precision: 0.0000e+00 - recall: 0.0000e+00\n",
            "Epoch 84/100\n",
            "1781/1781 [==============================] - 39s 22ms/step - loss: 0.0125 - fn: 393.0000 - fp: 0.0000e+00 - tn: 227451.0000 - tp: 1.0000 - precision: 1.0000 - recall: 0.0025\n",
            "Epoch 85/100\n",
            "1781/1781 [==============================] - 39s 22ms/step - loss: 0.0124 - fn: 391.0000 - fp: 1.0000 - tn: 227450.0000 - tp: 3.0000 - precision: 0.7500 - recall: 0.0076\n",
            "Epoch 86/100\n",
            "1781/1781 [==============================] - 39s 22ms/step - loss: 0.0123 - fn: 394.0000 - fp: 1.0000 - tn: 227450.0000 - tp: 0.0000e+00 - precision: 0.0000e+00 - recall: 0.0000e+00\n",
            "Epoch 87/100\n",
            "1781/1781 [==============================] - 39s 22ms/step - loss: 0.0118 - fn: 388.0000 - fp: 7.0000 - tn: 227444.0000 - tp: 6.0000 - precision: 0.4615 - recall: 0.0152\n",
            "Epoch 88/100\n",
            "1781/1781 [==============================] - 39s 22ms/step - loss: 0.0125 - fn: 382.0000 - fp: 4.0000 - tn: 227447.0000 - tp: 12.0000 - precision: 0.7500 - recall: 0.0305\n",
            "Epoch 89/100\n",
            "1781/1781 [==============================] - 41s 23ms/step - loss: 0.0126 - fn: 394.0000 - fp: 3.0000 - tn: 227448.0000 - tp: 0.0000e+00 - precision: 0.0000e+00 - recall: 0.0000e+00\n",
            "Epoch 90/100\n",
            "1781/1781 [==============================] - 39s 22ms/step - loss: 0.0126 - fn: 393.0000 - fp: 0.0000e+00 - tn: 227451.0000 - tp: 1.0000 - precision: 1.0000 - recall: 0.0025\n",
            "Epoch 91/100\n",
            "1781/1781 [==============================] - 38s 21ms/step - loss: 0.0122 - fn: 390.0000 - fp: 2.0000 - tn: 227449.0000 - tp: 4.0000 - precision: 0.6667 - recall: 0.0102\n",
            "Epoch 92/100\n",
            "1781/1781 [==============================] - 39s 22ms/step - loss: 0.0115 - fn: 388.0000 - fp: 12.0000 - tn: 227439.0000 - tp: 6.0000 - precision: 0.3333 - recall: 0.0152\n",
            "Epoch 93/100\n",
            "1781/1781 [==============================] - 39s 22ms/step - loss: 0.0113 - fn: 389.0000 - fp: 10.0000 - tn: 227441.0000 - tp: 5.0000 - precision: 0.3333 - recall: 0.0127\n",
            "Epoch 94/100\n",
            "1781/1781 [==============================] - 38s 21ms/step - loss: 0.0118 - fn: 386.0000 - fp: 6.0000 - tn: 227445.0000 - tp: 8.0000 - precision: 0.5714 - recall: 0.0203\n",
            "Epoch 95/100\n",
            "1781/1781 [==============================] - 41s 23ms/step - loss: 0.0120 - fn: 382.0000 - fp: 10.0000 - tn: 227441.0000 - tp: 12.0000 - precision: 0.5455 - recall: 0.0305\n",
            "Epoch 96/100\n",
            "1781/1781 [==============================] - 39s 22ms/step - loss: 0.0117 - fn: 387.0000 - fp: 9.0000 - tn: 227442.0000 - tp: 7.0000 - precision: 0.4375 - recall: 0.0178\n",
            "Epoch 97/100\n",
            "1781/1781 [==============================] - 39s 22ms/step - loss: 0.0115 - fn: 380.0000 - fp: 10.0000 - tn: 227441.0000 - tp: 14.0000 - precision: 0.5833 - recall: 0.0355\n",
            "Epoch 98/100\n",
            "1781/1781 [==============================] - 38s 21ms/step - loss: 0.0119 - fn: 384.0000 - fp: 12.0000 - tn: 227439.0000 - tp: 10.0000 - precision: 0.4545 - recall: 0.0254\n",
            "Epoch 99/100\n",
            "1781/1781 [==============================] - 39s 22ms/step - loss: 0.0119 - fn: 382.0000 - fp: 5.0000 - tn: 227446.0000 - tp: 12.0000 - precision: 0.7059 - recall: 0.0305\n",
            "Epoch 100/100\n",
            "1781/1781 [==============================] - 39s 22ms/step - loss: 0.0126 - fn: 391.0000 - fp: 2.0000 - tn: 227449.0000 - tp: 3.0000 - precision: 0.6000 - recall: 0.0076\n"
          ]
        }
      ]
    },
    {
      "cell_type": "code",
      "source": [
        "# 모델 평가\n",
        "score = model.evaluate(X_test, y_test)\n",
        "print(score)"
      ],
      "metadata": {
        "colab": {
          "base_uri": "https://localhost:8080/"
        },
        "id": "29kI72UbK7Bw",
        "outputId": "6c53091c-5b6b-4fe8-9c5f-2a88d7f38107"
      },
      "execution_count": null,
      "outputs": [
        {
          "output_type": "stream",
          "name": "stdout",
          "text": [
            "1781/1781 [==============================] - 7s 3ms/step - loss: 0.0238 - fn: 96.0000 - fp: 13.0000 - tn: 56851.0000 - tp: 2.0000 - precision: 0.1333 - recall: 0.0204\n",
            "[0.023786723613739014, 96.0, 13.0, 56851.0, 2.0, 0.13333334028720856, 0.020408162847161293]\n"
          ]
        }
      ]
    },
    {
      "cell_type": "code",
      "source": [
        "# 시각화\n",
        "plt.plot(history.history['loss'], label = 'train')\n",
        "plt.xlabel('the number of learning')\n",
        "plt.ylabel('cost')\n",
        "plt.legend()\n",
        "plt.show()"
      ],
      "metadata": {
        "colab": {
          "base_uri": "https://localhost:8080/",
          "height": 449
        },
        "id": "45g7Dn5lK6_Y",
        "outputId": "c878468c-24fa-4f66-9885-1757ec9b69f4"
      },
      "execution_count": null,
      "outputs": [
        {
          "output_type": "display_data",
          "data": {
            "text/plain": [
              "<Figure size 640x480 with 1 Axes>"
            ],
            "image/png": "[encoded data removed]"
          },
          "metadata": {}
        }
      ]
    },
    {
      "cell_type": "code",
      "source": [],
      "metadata": {
        "id": "l5ItOH39-P76"
      },
      "execution_count": null,
      "outputs": []
    },
    {
      "cell_type": "markdown",
      "source": [
        "[RNN & XGboost 모델 비교- Kaggle 링크](https://www.kaggle.com/code/faressayah/credit-card-fraud-detection-anns-vs-xgboost)"
      ],
      "metadata": {
        "id": "LvzPmYfQvYVq"
      }
    },
    {
      "cell_type": "code",
      "source": [],
      "metadata": {
        "id": "YVJFmjRwr0p3"
      },
      "execution_count": null,
      "outputs": []
    },
    {
      "cell_type": "code",
      "source": [],
      "metadata": {
        "id": "kb7EGUwUrzdZ"
      },
      "execution_count": null,
      "outputs": []
    },
    {
      "cell_type": "code",
      "source": [],
      "metadata": {
        "id": "nT3RRuYlrzaZ"
      },
      "execution_count": null,
      "outputs": []
    },
    {
      "cell_type": "code",
      "source": [],
      "metadata": {
        "id": "2x2AP7dbrzXg"
      },
      "execution_count": null,
      "outputs": []
    },
    {
      "cell_type": "code",
      "source": [
        "from sklearn.metrics import accuracy_score, confusion_matrix, classification_report, f1_score\n",
        "\n",
        "def print_score(label, prediction, train=True):\n",
        "    if train:\n",
        "        clf_report = pd.DataFrame(classification_report(label, prediction, output_dict=True))\n",
        "        print(\"Train Result:\\n================================================\")\n",
        "        print(f\"Accuracy Score: {accuracy_score(label, prediction) * 100:.2f}%\")\n",
        "        print(\"_______________________________________________\")\n",
        "        print(f\"Classification Report:\\n{clf_report}\")\n",
        "        print(\"_______________________________________________\")\n",
        "        print(f\"Confusion Matrix: \\n {confusion_matrix(y_train, prediction)}\\n\")\n",
        "\n",
        "    elif train==False:\n",
        "        clf_report = pd.DataFrame(classification_report(label, prediction, output_dict=True))\n",
        "        print(\"Test Result:\\n================================================\")\n",
        "        print(f\"Accuracy Score: {accuracy_score(label, prediction) * 100:.2f}%\")\n",
        "        print(\"_______________________________________________\")\n",
        "        print(f\"Classification Report:\\n{clf_report}\")\n",
        "        print(\"_______________________________________________\")\n",
        "        print(f\"Confusion Matrix: \\n {confusion_matrix(label, prediction)}\\n\")"
      ],
      "metadata": {
        "id": "9OqLaVQFcxuO"
      },
      "execution_count": null,
      "outputs": []
    },
    {
      "cell_type": "markdown",
      "source": [
        "**1) 로지스틱 회귀 분석**"
      ],
      "metadata": {
        "id": "b_jK9eYiyG7W"
      }
    },
    {
      "cell_type": "code",
      "source": [
        "# 로지스틱 회귀 필요한 모듈 불러오기\n",
        "from sklearn.linear_model import LogisticRegression\n",
        "from sklearn.metrics import classification_report, confusion_matrix, accuracy_score\n",
        "\n",
        "# 모델 생성\n",
        "log_reg_model = LogisticRegression()\n",
        "\n",
        "# 모델 훈련\n",
        "log_reg_model.fit(X_train, y_train)\n",
        "\n",
        "# 모델 예측\n",
        "y_pred = log_reg_model.predict(X_test)"
      ],
      "metadata": {
        "colab": {
          "base_uri": "https://localhost:8080/"
        },
        "id": "l54_8yq07xSh",
        "outputId": "1647d0b4-5574-4f25-9223-70b5f7de074d"
      },
      "execution_count": null,
      "outputs": [
        {
          "output_type": "stream",
          "name": "stderr",
          "text": [
            "/usr/local/lib/python3.10/dist-packages/sklearn/linear_model/_logistic.py:458: ConvergenceWarning: lbfgs failed to converge (status=1):\n",
            "STOP: TOTAL NO. of ITERATIONS REACHED LIMIT.\n",
            "\n",
            "Increase the number of iterations (max_iter) or scale the data as shown in:\n",
            "    https://scikit-learn.org/stable/modules/preprocessing.html\n",
            "Please also refer to the documentation for alternative solver options:\n",
            "    https://scikit-learn.org/stable/modules/linear_model.html#logistic-regression\n",
            "  n_iter_i = _check_optimize_result(\n"
          ]
        }
      ]
    },
    {
      "cell_type": "code",
      "source": [],
      "metadata": {
        "id": "i6v9Kr7JBDZH"
      },
      "execution_count": null,
      "outputs": []
    },
    {
      "cell_type": "code",
      "source": [
        "from sklearn.linear_model import LogisticRegression\n",
        "from sklearn.metrics import classification_report, confusion_matrix, accuracy_score\n",
        "\n",
        "# 로지스틱 회귀 모델 생성\n",
        "log_reg_model = LogisticRegression()\n",
        "\n",
        "# 모델 훈련\n",
        "log_reg_model.fit(X_train, y_train)\n",
        "\n",
        "# 테스트 데이터에 대한 예측\n",
        "y_pred = log_reg_model.predict(X_test)\n",
        "\n",
        "# 정확도 출력\n",
        "print(\"Accuracy:\", accuracy_score(y_test, y_pred))\n",
        "\n",
        "# 혼동 행렬 출력\n",
        "print(\"\\nConfusion Matrix:\")\n",
        "print(confusion_matrix(y_test, y_pred))\n",
        "\n",
        "# 분류 보고서 출력\n",
        "print(\"\\nClassification Report:\")\n",
        "print(classification_report(y_test, y_pred))\n"
      ],
      "metadata": {
        "id": "p0sW8Oym_Gio",
        "colab": {
          "base_uri": "https://localhost:8080/"
        },
        "outputId": "5c80eafd-ee2b-4922-8019-459129f279b2"
      },
      "execution_count": null,
      "outputs": [
        {
          "output_type": "stream",
          "name": "stderr",
          "text": [
            "/usr/local/lib/python3.10/dist-packages/sklearn/linear_model/_logistic.py:458: ConvergenceWarning: lbfgs failed to converge (status=1):\n",
            "STOP: TOTAL NO. of ITERATIONS REACHED LIMIT.\n",
            "\n",
            "Increase the number of iterations (max_iter) or scale the data as shown in:\n",
            "    https://scikit-learn.org/stable/modules/preprocessing.html\n",
            "Please also refer to the documentation for alternative solver options:\n",
            "    https://scikit-learn.org/stable/modules/linear_model.html#logistic-regression\n",
            "  n_iter_i = _check_optimize_result(\n"
          ]
        },
        {
          "output_type": "stream",
          "name": "stdout",
          "text": [
            "Accuracy: 0.9989817773252344\n",
            "\n",
            "Confusion Matrix:\n",
            "[[56840    24]\n",
            " [   34    64]]\n",
            "\n",
            "Classification Report:\n",
            "              precision    recall  f1-score   support\n",
            "\n",
            "           0       1.00      1.00      1.00     56864\n",
            "           1       0.73      0.65      0.69        98\n",
            "\n",
            "    accuracy                           1.00     56962\n",
            "   macro avg       0.86      0.83      0.84     56962\n",
            "weighted avg       1.00      1.00      1.00     56962\n",
            "\n"
          ]
        }
      ]
    },
    {
      "cell_type": "code",
      "source": [
        "# 모델 예측"
      ],
      "metadata": {
        "id": "Kdc5MFRU7xQB"
      },
      "execution_count": null,
      "outputs": []
    },
    {
      "cell_type": "code",
      "source": [
        "# 모델 평가"
      ],
      "metadata": {
        "id": "B6P2aL958Hjh"
      },
      "execution_count": null,
      "outputs": []
    },
    {
      "cell_type": "markdown",
      "source": [],
      "metadata": {
        "id": "Ta5EqZeQreCK"
      }
    },
    {
      "cell_type": "markdown",
      "source": [],
      "metadata": {
        "id": "kaR1PJwfrhnl"
      }
    },
    {
      "cell_type": "markdown",
      "source": [
        "# 3. Feature Scaling\n",
        "###### 하는 이유?\n",
        "###### 변수 값의 범위 또는 단위가 달라서 발생 가능한 문제를 예방할 수 있다.\n",
        "###### 머신러닝 모델이 특정 데이터의 편향성을 갖는 걸 방지할 수 있다.\n",
        "###### 데이터 범위 크기에 따라 모델이 학습하는 데 있어서 bias가 달라질 수 있으므로 하나의 범위 크기로 통일해주는 작업이 필요할 수 있다\n",
        "출처: https://glanceyes.com/entry/데이터-전처리의-피처-스케일링Feature-Scaling [지그시:티스토리]\n",
        "\n",
        "Feature Scaling 시 유의사항\n",
        "\n",
        "###### 학습 데이터로 fit(), transform()을 적용한 후 테스트 데이터에서 다시 fit()을 수행하지 않고 학습 데이터로 fit()을 적용한 결과를 이용해서 transform()을 적용해야 한다.\n",
        "\n",
        "###### 머신러닝 모델이 학습 데이터(train set)에 관해서만 학습을 해야 하는데, 오직 평가에서만 사용해야 할 테스트 데이터(test set)를 머신러닝 모델이 학습을 하게 되면 모델의 성능을 제대로 평가할 수 없다. 테스트 데이터로 다시 새로운 스케일링 기준을 만들어서 학습해 버리면 스케일링 기준 정보가 학습 데이터에서의 기준과 달라질 수 있어서다.\n",
        "\n",
        "###### 정리하면, 머신러닝 모델은 학습 데이터를 기반으로 학습이 되므로 반드시 테스트 데이터는 학습 데이터의 스케일링 기준을 따라야 한다. 따라서 테스트 데이터에는 다시 fit()을 적용해서는 안 된다.\n",
        "출처: https://glanceyes.com/entry/데이터-전처리의-피처-스케일링Feature-Scaling [지그시:티스토리]\n",
        "\n",
        "1. Min-Max scaling\n",
        "2. Standard scaling\n",
        "3. Robust scaling : 중앙값, 평균편차 이용\n",
        "4. Normalization scaling\n",
        "5. Log scaling\n",
        "6. Exponential scaling"
      ],
      "metadata": {
        "id": "TIf6DP6qpijo"
      }
    },
    {
      "cell_type": "markdown",
      "source": [],
      "metadata": {
        "id": "dv0XxDZ67nYp"
      }
    },
    {
      "cell_type": "code",
      "source": [
        "# Robust scaling 객체 생성\n",
        "scaler = RobustScaler()\n",
        "\n",
        "# Robust scaling 정규화\n",
        "X_train['scaled_amount'] = scaler.fit_transform(X_train['Amount'].values.reshape(-1, 1))\n",
        "X_test['scaled_amount'] = scaler.transform(X_test['Amount'].values.reshape(-1, 1))\n",
        "\n",
        "X_train['scaled_time'] = scaler.fit_transform(X_train['Time'].values.reshape(-1, 1))\n",
        "X_test['scaled_time'] = scaler.transform(X_test['Time'].values.reshape(-1, 1))\n",
        "\n",
        "# 확인\n",
        "print('\\n=======================스케일링 전=======================')\n",
        "print(\"Data - Mean:\")\n",
        "print(X_train[['Amount', 'Time']].mean())\n",
        "print(\"\\nData - Variance:\")\n",
        "print(X_train[['Amount', 'Time']].var())\n",
        "print('\\n=======================스케일링 후=======================')\n",
        "print(\"Scaled Data - Mean:\")\n",
        "print(X_train[['scaled_amount', 'scaled_time']].mean())\n",
        "print(\"\\nScaled Data - Variance:\")\n",
        "print(X_train[['scaled_amount', 'scaled_time']].var())"
      ],
      "metadata": {
        "id": "n27yEcVDmJCu",
        "colab": {
          "base_uri": "https://localhost:8080/"
        },
        "outputId": "ef3ba209-b119-4391-a238-2c335fa27462"
      },
      "execution_count": null,
      "outputs": [
        {
          "output_type": "stream",
          "name": "stdout",
          "text": [
            "\n",
            "=======================스케일링 전=======================\n",
            "Data - Mean:\n",
            "Amount       88.479993\n",
            "Time      94792.551673\n",
            "dtype: float64\n",
            "\n",
            "Data - Variance:\n",
            "Amount    6.498945e+04\n",
            "Time      2.255155e+09\n",
            "dtype: float64\n",
            "\n",
            "=======================스케일링 후=======================\n",
            "Scaled Data - Mean:\n",
            "scaled_amount    0.929790\n",
            "scaled_time      0.118453\n",
            "dtype: float64\n",
            "\n",
            "Scaled Data - Variance:\n",
            "scaled_amount    12.712494\n",
            "scaled_time       0.311077\n",
            "dtype: float64\n"
          ]
        }
      ]
    },
    {
      "cell_type": "code",
      "source": [],
      "metadata": {
        "id": "YhAnVHLmyNHS"
      },
      "execution_count": null,
      "outputs": []
    },
    {
      "cell_type": "code",
      "source": [],
      "metadata": {
        "id": "T26veSd9yNEZ"
      },
      "execution_count": null,
      "outputs": []
    },
    {
      "cell_type": "code",
      "source": [],
      "metadata": {
        "id": "RSkRJiy-yNB0"
      },
      "execution_count": null,
      "outputs": []
    },
    {
      "cell_type": "markdown",
      "source": [
        "# 데이터불균형 해결"
      ],
      "metadata": {
        "id": "GvEqx3dcyQY3"
      }
    },
    {
      "cell_type": "markdown",
      "source": [
        "# 이상치 제거"
      ],
      "metadata": {
        "id": "_YSgxO5xx3iv"
      }
    },
    {
      "cell_type": "markdown",
      "source": [
        "# 변수별 상관관계 확인"
      ],
      "metadata": {
        "id": "uHS4f5ZZyAao"
      }
    },
    {
      "cell_type": "code",
      "source": [],
      "metadata": {
        "id": "bbrCKGLwr7Qi"
      },
      "execution_count": null,
      "outputs": []
    }
  ]
}